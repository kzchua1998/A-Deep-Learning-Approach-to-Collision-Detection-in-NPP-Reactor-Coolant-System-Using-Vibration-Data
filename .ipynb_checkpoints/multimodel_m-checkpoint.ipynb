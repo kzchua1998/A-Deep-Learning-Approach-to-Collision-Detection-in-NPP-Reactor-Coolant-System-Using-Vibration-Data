{
 "cells": [
  {
   "cell_type": "code",
   "execution_count": 1,
   "metadata": {},
   "outputs": [],
   "source": [
    "from kerastuner.tuners import RandomSearch, Hyperband, BayesianOptimization\n",
    "from matplotlib import pyplot as plt\n",
    "from functools import partial\n",
    "from tensorflow.keras.utils import plot_model\n",
    "from tensorflow.keras.models import Model\n",
    "from tensorflow.keras.layers import Input, Concatenate, Lambda\n",
    "from tensorflow.keras import regularizers\n",
    "import pandas as pd\n",
    "import numpy as np\n",
    "import tensorflow as tf\n",
    "import random\n",
    "import cv2\n",
    "import os\n",
    "import keras"
   ]
  },
  {
   "cell_type": "code",
   "execution_count": 2,
   "metadata": {},
   "outputs": [],
   "source": [
    "df_X = pd.read_csv('dataset/train_features.csv')\n",
    "df_y = pd.read_csv('dataset/train_target.csv')"
   ]
  },
  {
   "cell_type": "code",
   "execution_count": 3,
   "metadata": {},
   "outputs": [
    {
     "data": {
      "text/html": [
       "<div>\n",
       "<style scoped>\n",
       "    .dataframe tbody tr th:only-of-type {\n",
       "        vertical-align: middle;\n",
       "    }\n",
       "\n",
       "    .dataframe tbody tr th {\n",
       "        vertical-align: top;\n",
       "    }\n",
       "\n",
       "    .dataframe thead th {\n",
       "        text-align: right;\n",
       "    }\n",
       "</style>\n",
       "<table border=\"1\" class=\"dataframe\">\n",
       "  <thead>\n",
       "    <tr style=\"text-align: right;\">\n",
       "      <th></th>\n",
       "      <th>id</th>\n",
       "      <th>Time</th>\n",
       "      <th>S1</th>\n",
       "      <th>S2</th>\n",
       "      <th>S3</th>\n",
       "      <th>S4</th>\n",
       "    </tr>\n",
       "  </thead>\n",
       "  <tbody>\n",
       "    <tr>\n",
       "      <th>0</th>\n",
       "      <td>0</td>\n",
       "      <td>0.000000</td>\n",
       "      <td>0.00</td>\n",
       "      <td>0.0</td>\n",
       "      <td>0.00</td>\n",
       "      <td>0.00</td>\n",
       "    </tr>\n",
       "    <tr>\n",
       "      <th>1</th>\n",
       "      <td>0</td>\n",
       "      <td>0.000004</td>\n",
       "      <td>0.00</td>\n",
       "      <td>0.0</td>\n",
       "      <td>0.00</td>\n",
       "      <td>0.00</td>\n",
       "    </tr>\n",
       "    <tr>\n",
       "      <th>2</th>\n",
       "      <td>0</td>\n",
       "      <td>0.000008</td>\n",
       "      <td>0.00</td>\n",
       "      <td>0.0</td>\n",
       "      <td>0.00</td>\n",
       "      <td>0.00</td>\n",
       "    </tr>\n",
       "    <tr>\n",
       "      <th>3</th>\n",
       "      <td>0</td>\n",
       "      <td>0.000012</td>\n",
       "      <td>0.00</td>\n",
       "      <td>0.0</td>\n",
       "      <td>0.00</td>\n",
       "      <td>0.00</td>\n",
       "    </tr>\n",
       "    <tr>\n",
       "      <th>4</th>\n",
       "      <td>0</td>\n",
       "      <td>0.000016</td>\n",
       "      <td>0.00</td>\n",
       "      <td>0.0</td>\n",
       "      <td>0.00</td>\n",
       "      <td>0.00</td>\n",
       "    </tr>\n",
       "    <tr>\n",
       "      <th>...</th>\n",
       "      <td>...</td>\n",
       "      <td>...</td>\n",
       "      <td>...</td>\n",
       "      <td>...</td>\n",
       "      <td>...</td>\n",
       "      <td>...</td>\n",
       "    </tr>\n",
       "    <tr>\n",
       "      <th>1049995</th>\n",
       "      <td>2799</td>\n",
       "      <td>0.001480</td>\n",
       "      <td>-89256.32</td>\n",
       "      <td>-164614.6</td>\n",
       "      <td>48186.29</td>\n",
       "      <td>-147910.20</td>\n",
       "    </tr>\n",
       "    <tr>\n",
       "      <th>1049996</th>\n",
       "      <td>2799</td>\n",
       "      <td>0.001484</td>\n",
       "      <td>-29233.44</td>\n",
       "      <td>-179404.2</td>\n",
       "      <td>109534.40</td>\n",
       "      <td>-111591.10</td>\n",
       "    </tr>\n",
       "    <tr>\n",
       "      <th>1049997</th>\n",
       "      <td>2799</td>\n",
       "      <td>0.001488</td>\n",
       "      <td>37147.25</td>\n",
       "      <td>-190011.7</td>\n",
       "      <td>178781.10</td>\n",
       "      <td>-86836.78</td>\n",
       "    </tr>\n",
       "    <tr>\n",
       "      <th>1049998</th>\n",
       "      <td>2799</td>\n",
       "      <td>0.001492</td>\n",
       "      <td>98278.50</td>\n",
       "      <td>-190771.4</td>\n",
       "      <td>245726.70</td>\n",
       "      <td>-75660.00</td>\n",
       "    </tr>\n",
       "    <tr>\n",
       "      <th>1049999</th>\n",
       "      <td>2799</td>\n",
       "      <td>0.001496</td>\n",
       "      <td>151683.00</td>\n",
       "      <td>-177267.3</td>\n",
       "      <td>307932.80</td>\n",
       "      <td>-72835.82</td>\n",
       "    </tr>\n",
       "  </tbody>\n",
       "</table>\n",
       "<p>1050000 rows × 6 columns</p>\n",
       "</div>"
      ],
      "text/plain": [
       "           id      Time         S1        S2         S3         S4\n",
       "0           0  0.000000       0.00       0.0       0.00       0.00\n",
       "1           0  0.000004       0.00       0.0       0.00       0.00\n",
       "2           0  0.000008       0.00       0.0       0.00       0.00\n",
       "3           0  0.000012       0.00       0.0       0.00       0.00\n",
       "4           0  0.000016       0.00       0.0       0.00       0.00\n",
       "...       ...       ...        ...       ...        ...        ...\n",
       "1049995  2799  0.001480  -89256.32 -164614.6   48186.29 -147910.20\n",
       "1049996  2799  0.001484  -29233.44 -179404.2  109534.40 -111591.10\n",
       "1049997  2799  0.001488   37147.25 -190011.7  178781.10  -86836.78\n",
       "1049998  2799  0.001492   98278.50 -190771.4  245726.70  -75660.00\n",
       "1049999  2799  0.001496  151683.00 -177267.3  307932.80  -72835.82\n",
       "\n",
       "[1050000 rows x 6 columns]"
      ]
     },
     "execution_count": 3,
     "metadata": {},
     "output_type": "execute_result"
    }
   ],
   "source": [
    "df_X"
   ]
  },
  {
   "cell_type": "code",
   "execution_count": 4,
   "metadata": {},
   "outputs": [
    {
     "data": {
      "text/html": [
       "<div>\n",
       "<style scoped>\n",
       "    .dataframe tbody tr th:only-of-type {\n",
       "        vertical-align: middle;\n",
       "    }\n",
       "\n",
       "    .dataframe tbody tr th {\n",
       "        vertical-align: top;\n",
       "    }\n",
       "\n",
       "    .dataframe thead th {\n",
       "        text-align: right;\n",
       "    }\n",
       "</style>\n",
       "<table border=\"1\" class=\"dataframe\">\n",
       "  <thead>\n",
       "    <tr style=\"text-align: right;\">\n",
       "      <th></th>\n",
       "      <th>id</th>\n",
       "      <th>X</th>\n",
       "      <th>Y</th>\n",
       "      <th>M</th>\n",
       "      <th>V</th>\n",
       "    </tr>\n",
       "  </thead>\n",
       "  <tbody>\n",
       "    <tr>\n",
       "      <th>0</th>\n",
       "      <td>0</td>\n",
       "      <td>0.0</td>\n",
       "      <td>-400.0</td>\n",
       "      <td>50.0</td>\n",
       "      <td>0.4</td>\n",
       "    </tr>\n",
       "    <tr>\n",
       "      <th>1</th>\n",
       "      <td>1</td>\n",
       "      <td>400.0</td>\n",
       "      <td>0.0</td>\n",
       "      <td>100.0</td>\n",
       "      <td>1.0</td>\n",
       "    </tr>\n",
       "    <tr>\n",
       "      <th>2</th>\n",
       "      <td>2</td>\n",
       "      <td>-300.0</td>\n",
       "      <td>-200.0</td>\n",
       "      <td>25.0</td>\n",
       "      <td>0.4</td>\n",
       "    </tr>\n",
       "    <tr>\n",
       "      <th>3</th>\n",
       "      <td>3</td>\n",
       "      <td>200.0</td>\n",
       "      <td>-100.0</td>\n",
       "      <td>150.0</td>\n",
       "      <td>0.4</td>\n",
       "    </tr>\n",
       "    <tr>\n",
       "      <th>4</th>\n",
       "      <td>4</td>\n",
       "      <td>-300.0</td>\n",
       "      <td>-100.0</td>\n",
       "      <td>150.0</td>\n",
       "      <td>0.4</td>\n",
       "    </tr>\n",
       "    <tr>\n",
       "      <th>...</th>\n",
       "      <td>...</td>\n",
       "      <td>...</td>\n",
       "      <td>...</td>\n",
       "      <td>...</td>\n",
       "      <td>...</td>\n",
       "    </tr>\n",
       "    <tr>\n",
       "      <th>2795</th>\n",
       "      <td>2795</td>\n",
       "      <td>200.0</td>\n",
       "      <td>200.0</td>\n",
       "      <td>50.0</td>\n",
       "      <td>1.0</td>\n",
       "    </tr>\n",
       "    <tr>\n",
       "      <th>2796</th>\n",
       "      <td>2796</td>\n",
       "      <td>-400.0</td>\n",
       "      <td>-400.0</td>\n",
       "      <td>150.0</td>\n",
       "      <td>0.2</td>\n",
       "    </tr>\n",
       "    <tr>\n",
       "      <th>2797</th>\n",
       "      <td>2797</td>\n",
       "      <td>-100.0</td>\n",
       "      <td>0.0</td>\n",
       "      <td>50.0</td>\n",
       "      <td>0.2</td>\n",
       "    </tr>\n",
       "    <tr>\n",
       "      <th>2798</th>\n",
       "      <td>2798</td>\n",
       "      <td>100.0</td>\n",
       "      <td>100.0</td>\n",
       "      <td>125.0</td>\n",
       "      <td>0.6</td>\n",
       "    </tr>\n",
       "    <tr>\n",
       "      <th>2799</th>\n",
       "      <td>2799</td>\n",
       "      <td>100.0</td>\n",
       "      <td>-200.0</td>\n",
       "      <td>100.0</td>\n",
       "      <td>0.6</td>\n",
       "    </tr>\n",
       "  </tbody>\n",
       "</table>\n",
       "<p>2800 rows × 5 columns</p>\n",
       "</div>"
      ],
      "text/plain": [
       "        id      X      Y      M    V\n",
       "0        0    0.0 -400.0   50.0  0.4\n",
       "1        1  400.0    0.0  100.0  1.0\n",
       "2        2 -300.0 -200.0   25.0  0.4\n",
       "3        3  200.0 -100.0  150.0  0.4\n",
       "4        4 -300.0 -100.0  150.0  0.4\n",
       "...    ...    ...    ...    ...  ...\n",
       "2795  2795  200.0  200.0   50.0  1.0\n",
       "2796  2796 -400.0 -400.0  150.0  0.2\n",
       "2797  2797 -100.0    0.0   50.0  0.2\n",
       "2798  2798  100.0  100.0  125.0  0.6\n",
       "2799  2799  100.0 -200.0  100.0  0.6\n",
       "\n",
       "[2800 rows x 5 columns]"
      ]
     },
     "execution_count": 4,
     "metadata": {},
     "output_type": "execute_result"
    }
   ],
   "source": [
    "df_y"
   ]
  },
  {
   "cell_type": "code",
   "execution_count": 5,
   "metadata": {},
   "outputs": [
    {
     "name": "stdout",
     "output_type": "stream",
     "text": [
      "id: False\n",
      "Time: False\n",
      "S1: False\n",
      "S2: False\n",
      "S3: False\n",
      "S4: False\n",
      "id: False\n",
      "X: False\n",
      "Y: False\n",
      "M: False\n",
      "V: False\n"
     ]
    }
   ],
   "source": [
    "for col in df_X.columns:\n",
    "    print(f'{col}: {df_X[col].isnull().values.any()}')\n",
    "for col in df_y.columns:\n",
    "    print(f'{col}: {df_y[col].isnull().values.any()}')"
   ]
  },
  {
   "cell_type": "code",
   "execution_count": 6,
   "metadata": {},
   "outputs": [],
   "source": [
    "def data_processing(data_frame,feature_list,conc_list=list()):\n",
    "    for feature in feature_list:\n",
    "        conc_list.append(np.asarray(data_frame[feature]).reshape(-1,375,1))\n",
    "    conc_array = np.concatenate(conc_list,axis=2)\n",
    "    array = conc_array.transpose(0,2,1)\n",
    "    return array"
   ]
  },
  {
   "cell_type": "code",
   "execution_count": 7,
   "metadata": {},
   "outputs": [
    {
     "name": "stdout",
     "output_type": "stream",
     "text": [
      "(2800, 4, 375)\n"
     ]
    },
    {
     "data": {
      "image/png": "[encoded data removed]",
      "text/plain": [
       "<Figure size 432x288 with 1 Axes>"
      ]
     },
     "metadata": {
      "needs_background": "light"
     },
     "output_type": "display_data"
    }
   ],
   "source": [
    "data = data_processing(df_X,['S1','S2','S3','S4'])\n",
    "\n",
    "plt.figure(figsize=(6,4))\n",
    "plt.plot(data[777].T)\n",
    "plt.legend(['S1','S2','S3','S4'])\n",
    "plt.grid(True)\n",
    "plt.xlabel('time (unit)')\n",
    "plt.ylabel('acceleration (mm/s^2)')\n",
    "\n",
    "x = data\n",
    "print(x.shape)"
   ]
  },
  {
   "cell_type": "code",
   "execution_count": 8,
   "metadata": {},
   "outputs": [],
   "source": [
    "try_data = x[0]\n",
    "N = 375 # Sample number\n",
    "f = np.linspace(0,N-1,N) # Frequency step\n",
    "instance_list = list()\n",
    "for instance in try_data:\n",
    "    y = np.array(instance).astype(np.float)\n",
    "    mean = np.mean(y)\n",
    "    X = np.fft.fft(y-mean)\n",
    "    X_mag = np.abs(X)\n",
    "    f_plot = f[0:int(N/2)]\n",
    "    X_mag_plot = 2*X_mag[0:int(N/2)]\n",
    "    X_mag_plot[0] /= 2\n",
    "    instance_list.append(X_mag_plot)"
   ]
  },
  {
   "cell_type": "code",
   "execution_count": 9,
   "metadata": {},
   "outputs": [],
   "source": [
    "fft_data_list = list()\n",
    "for data_instance in data:\n",
    "    N = 375 # Sample number\n",
    "    f = np.linspace(0,N-1,N) # Frequency step\n",
    "    instance_list = list()\n",
    "    for instance in try_data:\n",
    "        y = np.array(instance).astype(np.float)\n",
    "        mean = np.mean(y)\n",
    "        X = np.fft.fft(y-mean)\n",
    "        X_mag = np.abs(X)\n",
    "        f_plot = f[0:int(N/2)]\n",
    "        X_mag_plot = 2*X_mag[0:int(N/2)]\n",
    "        X_mag_plot[0] /= 2\n",
    "        instance_list.append(X_mag_plot)\n",
    "    fft_data_list.append(instance_list)"
   ]
  },
  {
   "cell_type": "code",
   "execution_count": 10,
   "metadata": {},
   "outputs": [],
   "source": [
    "y = df_y.drop(['id','X','Y','V'],axis=1)\n",
    "y_numpy = y.to_numpy()\n",
    "y_list = y_numpy.tolist()"
   ]
  },
  {
   "cell_type": "code",
   "execution_count": 11,
   "metadata": {},
   "outputs": [],
   "source": [
    "# raw waveform data\n",
    "x_array = data\n",
    "y_array = y_list\n",
    "train_test_index = int(len(x_array)*0.9)\n",
    "zip_list = list(zip(x_array,y_array))\n",
    "random.shuffle(zip_list)\n",
    "x_array,y_array = zip(*zip_list)\n",
    "x_train,y_train = np.array(x_array[0:train_test_index]),np.array(y_array[0:train_test_index])\n",
    "x_test,y_test = np.array(x_array[train_test_index:]),np.array(y_array[train_test_index:])"
   ]
  },
  {
   "cell_type": "code",
   "execution_count": 12,
   "metadata": {},
   "outputs": [],
   "source": [
    "# fast fourier transform data\n",
    "x_array_fft = fft_data_list\n",
    "y_array_fft = y_list\n",
    "train_test_index_fft = int(len(x_array_fft)*0.9)\n",
    "zip_list_fft = list(zip(x_array_fft,y_array_fft))\n",
    "random.shuffle(zip_list_fft)\n",
    "x_array_fft,y_array_fft = zip(*zip_list_fft)\n",
    "x_train_fft,y_train_fft = np.array(x_array_fft[0:train_test_index_fft]),np.array(y_array_fft[0:train_test_index_fft])\n",
    "x_test_fft,y_test_fft = np.array(x_array_fft[train_test_index_fft:]),np.array(y_array_fft[train_test_index_fft:])"
   ]
  },
  {
   "cell_type": "code",
   "execution_count": 13,
   "metadata": {},
   "outputs": [
    {
     "data": {
      "text/plain": [
       "(2520, 4, 375)"
      ]
     },
     "execution_count": 13,
     "metadata": {},
     "output_type": "execute_result"
    }
   ],
   "source": [
    "x_train.shape"
   ]
  },
  {
   "cell_type": "code",
   "execution_count": 14,
   "metadata": {},
   "outputs": [],
   "source": [
    "from sklearn.preprocessing import StandardScaler\n",
    "patch_number = 4\n",
    "# raw waveform data\n",
    "for patch in range(patch_number):\n",
    "    vars()[f'train_list{patch+1}'] = list()\n",
    "    vars()[f'test_list{patch+1}'] = list()\n",
    "\n",
    "for ele in x_train:\n",
    "    scaler = StandardScaler()\n",
    "    ele = scaler.fit_transform(ele)\n",
    "    train_list1.append(ele[0])\n",
    "    train_list2.append(ele[1])\n",
    "    train_list3.append(ele[2])\n",
    "    train_list4.append(ele[3])\n",
    "\n",
    "for ele in x_test:\n",
    "    scaler = StandardScaler()\n",
    "    ele = scaler.fit_transform(ele)\n",
    "    test_list1.append(ele[0])\n",
    "    test_list2.append(ele[0])\n",
    "    test_list3.append(ele[0])\n",
    "    test_list4.append(ele[0])\n",
    "    \n",
    "# fast fourier transform\n",
    "for patch in range(patch_number):\n",
    "    vars()[f'train_list_fft{patch+1}'] = list()\n",
    "    vars()[f'test_list_fft{patch+1}'] = list()\n",
    "\n",
    "for ele in x_train_fft:\n",
    "    train_list_fft1.append(ele[0])\n",
    "    train_list_fft2.append(ele[1])\n",
    "    train_list_fft3.append(ele[2])\n",
    "    train_list_fft4.append(ele[3])\n",
    "\n",
    "for ele in x_test_fft:\n",
    "    test_list_fft1.append(ele[0])\n",
    "    test_list_fft2.append(ele[1])\n",
    "    test_list_fft3.append(ele[2])\n",
    "    test_list_fft4.append(ele[3])\n",
    "\n",
    "# for Global training and testing\n",
    "train_fit = list()\n",
    "train_fft_fit = list()\n",
    "test_fit = list()\n",
    "test_fft_fit = list()\n",
    "\n",
    "for i in range(4):\n",
    "    vars()[f'train_list{i+1}'] = np.array(vars()[f'train_list{i+1}'])\n",
    "    train_fit.append(vars()[f'train_list{i+1}'])\n",
    "    vars()[f'train_list_fft{i+1}'] = np.array(vars()[f'train_list_fft{i+1}'])\n",
    "    train_fft_fit.append(vars()[f'train_list_fft{i+1}'])\n",
    "    vars()[f'test_list{i+1}'] = np.array(vars()[f'test_list{i+1}'])\n",
    "    test_fit.append(vars()[f'test_list{i+1}'])\n",
    "    vars()[f'test_list_fft{i+1}'] = np.array(vars()[f'test_list_fft{i+1}'])\n",
    "    test_fft_fit.append(vars()[f'test_list_fft{i+1}'])\n",
    "    \n",
    "\n",
    "# for PatchNet training\n",
    "train_list1 = np.expand_dims(train_list1,axis=2)\n",
    "train_list2 = np.expand_dims(train_list2,axis=2)\n",
    "train_list3 = np.expand_dims(train_list3,axis=2)\n",
    "train_list4 = np.expand_dims(train_list4,axis=2)\n",
    "\n",
    "train_list_fft1 = np.expand_dims(train_list_fft1,axis=2)\n",
    "train_list_fft2 = np.expand_dims(train_list_fft2,axis=2)\n",
    "train_list_fft3 = np.expand_dims(train_list_fft3,axis=2)\n",
    "train_list_fft4 = np.expand_dims(train_list_fft4,axis=2)"
   ]
  },
  {
   "cell_type": "code",
   "execution_count": 17,
   "metadata": {},
   "outputs": [],
   "source": [
    "from sklearn.preprocessing import MinMaxScaler"
   ]
  },
  {
   "cell_type": "code",
   "execution_count": 16,
   "metadata": {},
   "outputs": [
    {
     "data": {
      "text/plain": [
       "array([[175.],\n",
       "       [175.],\n",
       "       [125.],\n",
       "       ...,\n",
       "       [150.],\n",
       "       [100.],\n",
       "       [100.]])"
      ]
     },
     "execution_count": 16,
     "metadata": {},
     "output_type": "execute_result"
    }
   ],
   "source": [
    "y_train"
   ]
  },
  {
   "cell_type": "code",
   "execution_count": 15,
   "metadata": {},
   "outputs": [],
   "source": [
    "def PatchNet_HP(hp):\n",
    "    scaler = hp.Int('scaler',min_value=5,max_value=10,step=1)\n",
    "    defaultConv1D = partial(tf.keras.layers.Conv1D,kernel_size=3,\n",
    "                                                   kernel_initializer=tf.keras.initializers.lecun_normal)\n",
    "    momentums=hp.Choice('momentum',[0.9,0.99,0.999])\n",
    "    learning_rate = hp.Choice('learning_rate',[0.1,0.01,0.001])\n",
    "    #learning_rate = 0.001\n",
    "    \n",
    "    model = tf.keras.Sequential()\n",
    "    model.add(defaultConv1D(filters=5*scaler))\n",
    "    model.add(tf.keras.layers.BatchNormalization(momentum=momentums))\n",
    "    model.add(tf.keras.layers.Activation('selu'))\n",
    "    model.add(tf.keras.layers.MaxPooling1D(pool_size=2))\n",
    "    model.add(defaultConv1D(filters=4*scaler))\n",
    "    model.add(tf.keras.layers.BatchNormalization(momentum=momentums))\n",
    "    model.add(tf.keras.layers.Activation('selu'))\n",
    "    model.add(tf.keras.layers.MaxPooling1D(pool_size=2))\n",
    "    model.add(defaultConv1D(filters=3*scaler))\n",
    "    model.add(tf.keras.layers.BatchNormalization(momentum=momentums))\n",
    "    model.add(tf.keras.layers.Activation('selu'))\n",
    "    model.add(tf.keras.layers.MaxPooling1D(pool_size=2))\n",
    "    model.add(defaultConv1D(filters=2*scaler))\n",
    "    model.add(tf.keras.layers.BatchNormalization(momentum=momentums))\n",
    "    model.add(tf.keras.layers.Activation('selu'))\n",
    "    model.add(tf.keras.layers.MaxPooling1D(pool_size=2))\n",
    "    model.add(tf.keras.layers.Flatten())\n",
    "    model.add(tf.keras.layers.Dense(units=50,kernel_initializer=tf.keras.initializers.lecun_normal))\n",
    "    model.add(tf.keras.layers.BatchNormalization(momentum=momentums))\n",
    "    model.add(tf.keras.layers.Activation('selu'))\n",
    "    model.add(tf.keras.layers.Dropout(0.5))\n",
    "    model.add(tf.keras.layers.Dense(units=1,activation='sigmoid'))\n",
    "\n",
    "    model.compile(optimizer=tf.keras.optimizers.Adam(learning_rate=learning_rate),\n",
    "                  loss=\"mean_absolute_error\",\n",
    "                  metrics=[\"mean_absolute_error\"])\n",
    "    return model"
   ]
  },
  {
   "cell_type": "code",
   "execution_count": 147,
   "metadata": {},
   "outputs": [],
   "source": [
    "tuner1 = BayesianOptimization(PatchNet_HP,\n",
    "                              objective='val_mean_absolute_error',\n",
    "                              max_trials=20,\n",
    "                              directory='D:/Users/Admin/Desktop/raw/weights')"
   ]
  },
  {
   "cell_type": "code",
   "execution_count": 148,
   "metadata": {
    "scrolled": true
   },
   "outputs": [
    {
     "name": "stdout",
     "output_type": "stream",
     "text": [
      "Trial 20 Complete [00h 00m 46s]\n",
      "val_mean_absolute_error: 21.924657821655273\n",
      "\n",
      "Best val_mean_absolute_error So Far: 21.375234603881836\n",
      "Total elapsed time: 00h 14m 46s\n",
      "INFO:tensorflow:Oracle triggered exit\n"
     ]
    }
   ],
   "source": [
    "tuner1.search(train_list1,y_train,batch_size=16,epochs=20,validation_split=0.2)"
   ]
  },
  {
   "cell_type": "code",
   "execution_count": 149,
   "metadata": {},
   "outputs": [
    {
     "name": "stdout",
     "output_type": "stream",
     "text": [
      "Results summary\n",
      "Results in D:/Users/Admin/Desktop/raw/weights\\untitled_project\n",
      "Showing 10 best trials\n",
      "Objective(name='val_mean_absolute_error', direction='min')\n",
      "Trial summary\n",
      "Hyperparameters:\n",
      "scaler: 9\n",
      "momentum: 0.9\n",
      "learning_rate: 0.01\n",
      "Score: 21.375234603881836\n",
      "Trial summary\n",
      "Hyperparameters:\n",
      "scaler: 9\n",
      "momentum: 0.9\n",
      "learning_rate: 0.1\n",
      "Score: 21.47659683227539\n",
      "Trial summary\n",
      "Hyperparameters:\n",
      "scaler: 8\n",
      "momentum: 0.9\n",
      "learning_rate: 0.001\n",
      "Score: 21.530128479003906\n",
      "Trial summary\n",
      "Hyperparameters:\n",
      "scaler: 10\n",
      "momentum: 0.9\n",
      "learning_rate: 0.001\n",
      "Score: 21.684776306152344\n",
      "Trial summary\n",
      "Hyperparameters:\n",
      "scaler: 5\n",
      "momentum: 0.9\n",
      "learning_rate: 0.1\n",
      "Score: 21.69649887084961\n",
      "Trial summary\n",
      "Hyperparameters:\n",
      "scaler: 9\n",
      "momentum: 0.9\n",
      "learning_rate: 0.01\n",
      "Score: 21.803020477294922\n",
      "Trial summary\n",
      "Hyperparameters:\n",
      "scaler: 8\n",
      "momentum: 0.9\n",
      "learning_rate: 0.01\n",
      "Score: 21.828350067138672\n",
      "Trial summary\n",
      "Hyperparameters:\n",
      "scaler: 9\n",
      "momentum: 0.9\n",
      "learning_rate: 0.1\n",
      "Score: 21.877458572387695\n",
      "Trial summary\n",
      "Hyperparameters:\n",
      "scaler: 9\n",
      "momentum: 0.9\n",
      "learning_rate: 0.1\n",
      "Score: 21.924657821655273\n",
      "Trial summary\n",
      "Hyperparameters:\n",
      "scaler: 9\n",
      "momentum: 0.9\n",
      "learning_rate: 0.1\n",
      "Score: 21.972270965576172\n"
     ]
    }
   ],
   "source": [
    "tuner1.results_summary()"
   ]
  },
  {
   "cell_type": "code",
   "execution_count": 69,
   "metadata": {},
   "outputs": [],
   "source": [
    "from keras import callbacks\n",
    "early_stopping = callbacks.EarlyStopping(monitor =\"val_loss\", \n",
    "                                        mode =\"min\", patience = 5, \n",
    "                                        restore_best_weights = True)"
   ]
  },
  {
   "cell_type": "markdown",
   "metadata": {},
   "source": [
    "## Model 1"
   ]
  },
  {
   "cell_type": "code",
   "execution_count": 173,
   "metadata": {},
   "outputs": [],
   "source": [
    "defaultConv1D = partial(tf.keras.layers.Conv1D,kernel_size=3,\n",
    "                                               kernel_initializer=tf.keras.initializers.lecun_normal)\n",
    "scaler = 40\n",
    "momentum = 0.99\n",
    "learning_rate = 0.001\n",
    "\n",
    "model1 = tf.keras.Sequential()\n",
    "model1.add(defaultConv1D(filters=2*scaler))\n",
    "model1.add(tf.keras.layers.BatchNormalization(momentum=momentum))\n",
    "model1.add(tf.keras.layers.Activation('selu'))\n",
    "model1.add(tf.keras.layers.MaxPooling1D(pool_size=2))\n",
    "model1.add(defaultConv1D(filters=3*scaler))\n",
    "model1.add(tf.keras.layers.BatchNormalization(momentum=momentum))\n",
    "model1.add(tf.keras.layers.Activation('selu'))\n",
    "model1.add(tf.keras.layers.MaxPooling1D(pool_size=2))\n",
    "model1.add(defaultConv1D(filters=4*scaler))\n",
    "model1.add(tf.keras.layers.BatchNormalization(momentum=momentum))\n",
    "model1.add(tf.keras.layers.Activation('selu'))\n",
    "model1.add(tf.keras.layers.MaxPooling1D(pool_size=2))\n",
    "model1.add(defaultConv1D(filters=5*scaler))\n",
    "model1.add(tf.keras.layers.BatchNormalization(momentum=momentum))\n",
    "model1.add(tf.keras.layers.Activation('selu'))\n",
    "model1.add(tf.keras.layers.MaxPooling1D(pool_size=2))\n",
    "model1.add(tf.keras.layers.Flatten())\n",
    "model1.add(tf.keras.layers.Dense(units=50,kernel_initializer=tf.keras.initializers.lecun_normal))\n",
    "model1.add(tf.keras.layers.BatchNormalization(momentum=momentum))\n",
    "model1.add(tf.keras.layers.Activation('selu'))\n",
    "model1.add(tf.keras.layers.Dropout(0.5))\n",
    "model1.add(tf.keras.layers.Dense(units=1))\n",
    "\n",
    "model1.compile(optimizer=tf.keras.optimizers.Adam(learning_rate=learning_rate),\n",
    "              loss='mean_absolute_error',\n",
    "              metrics=['mean_absolute_error'])"
   ]
  },
  {
   "cell_type": "code",
   "execution_count": 174,
   "metadata": {
    "scrolled": true
   },
   "outputs": [
    {
     "name": "stdout",
     "output_type": "stream",
     "text": [
      "Epoch 1/50\n",
      "63/63 [==============================] - 6s 76ms/step - loss: 97.5669 - mean_absolute_error: 97.5669 - val_loss: 108.0052 - val_mean_absolute_error: 108.0052\n",
      "Epoch 2/50\n",
      "63/63 [==============================] - 4s 71ms/step - loss: 98.1619 - mean_absolute_error: 98.1619 - val_loss: 104.1075 - val_mean_absolute_error: 104.1075\n",
      "Epoch 3/50\n",
      "63/63 [==============================] - 6s 97ms/step - loss: 97.4003 - mean_absolute_error: 97.4003 - val_loss: 99.4081 - val_mean_absolute_error: 99.4081\n",
      "Epoch 4/50\n",
      "63/63 [==============================] - 5s 86ms/step - loss: 92.6338 - mean_absolute_error: 92.6338 - val_loss: 91.8559 - val_mean_absolute_error: 91.8559\n",
      "Epoch 5/50\n",
      "63/63 [==============================] - 5s 87ms/step - loss: 91.1382 - mean_absolute_error: 91.1382 - val_loss: 97.3887 - val_mean_absolute_error: 97.3887\n",
      "Epoch 6/50\n",
      "63/63 [==============================] - 5s 87ms/step - loss: 86.9443 - mean_absolute_error: 86.9443 - val_loss: 82.2707 - val_mean_absolute_error: 82.2707\n",
      "Epoch 7/50\n",
      "63/63 [==============================] - 6s 87ms/step - loss: 80.5821 - mean_absolute_error: 80.5821 - val_loss: 86.5206 - val_mean_absolute_error: 86.5206\n",
      "Epoch 8/50\n",
      "63/63 [==============================] - 6s 87ms/step - loss: 75.1356 - mean_absolute_error: 75.1356 - val_loss: 73.1180 - val_mean_absolute_error: 73.1180\n",
      "Epoch 9/50\n",
      "63/63 [==============================] - 5s 85ms/step - loss: 68.5455 - mean_absolute_error: 68.5455 - val_loss: 82.3830 - val_mean_absolute_error: 82.3830\n",
      "Epoch 10/50\n",
      "63/63 [==============================] - 5s 86ms/step - loss: 61.3714 - mean_absolute_error: 61.3714 - val_loss: 84.2486 - val_mean_absolute_error: 84.2486\n",
      "Epoch 11/50\n",
      "56/63 [=========================>....] - ETA: 0s - loss: 54.3555 - mean_absolute_error: 54.3555"
     ]
    },
    {
     "ename": "KeyboardInterrupt",
     "evalue": "",
     "output_type": "error",
     "traceback": [
      "\u001b[1;31m---------------------------------------------------------------------------\u001b[0m",
      "\u001b[1;31mKeyboardInterrupt\u001b[0m                         Traceback (most recent call last)",
      "\u001b[1;32m<ipython-input-174-08794b7b29da>\u001b[0m in \u001b[0;36m<module>\u001b[1;34m\u001b[0m\n\u001b[1;32m----> 1\u001b[1;33m history1 = model1.fit(train_list1,y_train,batch_size=32,epochs=50,\n\u001b[0m\u001b[0;32m      2\u001b[0m                       validation_split=0.2,callbacks=[early_stopping])\n",
      "\u001b[1;32mD:\\anaconda\\lib\\site-packages\\tensorflow\\python\\keras\\engine\\training.py\u001b[0m in \u001b[0;36mfit\u001b[1;34m(self, x, y, batch_size, epochs, verbose, callbacks, validation_split, validation_data, shuffle, class_weight, sample_weight, initial_epoch, steps_per_epoch, validation_steps, validation_batch_size, validation_freq, max_queue_size, workers, use_multiprocessing)\u001b[0m\n\u001b[0;32m   1098\u001b[0m                 _r=1):\n\u001b[0;32m   1099\u001b[0m               \u001b[0mcallbacks\u001b[0m\u001b[1;33m.\u001b[0m\u001b[0mon_train_batch_begin\u001b[0m\u001b[1;33m(\u001b[0m\u001b[0mstep\u001b[0m\u001b[1;33m)\u001b[0m\u001b[1;33m\u001b[0m\u001b[1;33m\u001b[0m\u001b[0m\n\u001b[1;32m-> 1100\u001b[1;33m               \u001b[0mtmp_logs\u001b[0m \u001b[1;33m=\u001b[0m \u001b[0mself\u001b[0m\u001b[1;33m.\u001b[0m\u001b[0mtrain_function\u001b[0m\u001b[1;33m(\u001b[0m\u001b[0miterator\u001b[0m\u001b[1;33m)\u001b[0m\u001b[1;33m\u001b[0m\u001b[1;33m\u001b[0m\u001b[0m\n\u001b[0m\u001b[0;32m   1101\u001b[0m               \u001b[1;32mif\u001b[0m \u001b[0mdata_handler\u001b[0m\u001b[1;33m.\u001b[0m\u001b[0mshould_sync\u001b[0m\u001b[1;33m:\u001b[0m\u001b[1;33m\u001b[0m\u001b[1;33m\u001b[0m\u001b[0m\n\u001b[0;32m   1102\u001b[0m                 \u001b[0mcontext\u001b[0m\u001b[1;33m.\u001b[0m\u001b[0masync_wait\u001b[0m\u001b[1;33m(\u001b[0m\u001b[1;33m)\u001b[0m\u001b[1;33m\u001b[0m\u001b[1;33m\u001b[0m\u001b[0m\n",
      "\u001b[1;32mD:\\anaconda\\lib\\site-packages\\tensorflow\\python\\eager\\def_function.py\u001b[0m in \u001b[0;36m__call__\u001b[1;34m(self, *args, **kwds)\u001b[0m\n\u001b[0;32m    826\u001b[0m     \u001b[0mtracing_count\u001b[0m \u001b[1;33m=\u001b[0m \u001b[0mself\u001b[0m\u001b[1;33m.\u001b[0m\u001b[0mexperimental_get_tracing_count\u001b[0m\u001b[1;33m(\u001b[0m\u001b[1;33m)\u001b[0m\u001b[1;33m\u001b[0m\u001b[1;33m\u001b[0m\u001b[0m\n\u001b[0;32m    827\u001b[0m     \u001b[1;32mwith\u001b[0m \u001b[0mtrace\u001b[0m\u001b[1;33m.\u001b[0m\u001b[0mTrace\u001b[0m\u001b[1;33m(\u001b[0m\u001b[0mself\u001b[0m\u001b[1;33m.\u001b[0m\u001b[0m_name\u001b[0m\u001b[1;33m)\u001b[0m \u001b[1;32mas\u001b[0m \u001b[0mtm\u001b[0m\u001b[1;33m:\u001b[0m\u001b[1;33m\u001b[0m\u001b[1;33m\u001b[0m\u001b[0m\n\u001b[1;32m--> 828\u001b[1;33m       \u001b[0mresult\u001b[0m \u001b[1;33m=\u001b[0m \u001b[0mself\u001b[0m\u001b[1;33m.\u001b[0m\u001b[0m_call\u001b[0m\u001b[1;33m(\u001b[0m\u001b[1;33m*\u001b[0m\u001b[0margs\u001b[0m\u001b[1;33m,\u001b[0m \u001b[1;33m**\u001b[0m\u001b[0mkwds\u001b[0m\u001b[1;33m)\u001b[0m\u001b[1;33m\u001b[0m\u001b[1;33m\u001b[0m\u001b[0m\n\u001b[0m\u001b[0;32m    829\u001b[0m       \u001b[0mcompiler\u001b[0m \u001b[1;33m=\u001b[0m \u001b[1;34m\"xla\"\u001b[0m \u001b[1;32mif\u001b[0m \u001b[0mself\u001b[0m\u001b[1;33m.\u001b[0m\u001b[0m_experimental_compile\u001b[0m \u001b[1;32melse\u001b[0m \u001b[1;34m\"nonXla\"\u001b[0m\u001b[1;33m\u001b[0m\u001b[1;33m\u001b[0m\u001b[0m\n\u001b[0;32m    830\u001b[0m       \u001b[0mnew_tracing_count\u001b[0m \u001b[1;33m=\u001b[0m \u001b[0mself\u001b[0m\u001b[1;33m.\u001b[0m\u001b[0mexperimental_get_tracing_count\u001b[0m\u001b[1;33m(\u001b[0m\u001b[1;33m)\u001b[0m\u001b[1;33m\u001b[0m\u001b[1;33m\u001b[0m\u001b[0m\n",
      "\u001b[1;32mD:\\anaconda\\lib\\site-packages\\tensorflow\\python\\eager\\def_function.py\u001b[0m in \u001b[0;36m_call\u001b[1;34m(self, *args, **kwds)\u001b[0m\n\u001b[0;32m    853\u001b[0m       \u001b[1;31m# In this case we have created variables on the first call, so we run the\u001b[0m\u001b[1;33m\u001b[0m\u001b[1;33m\u001b[0m\u001b[1;33m\u001b[0m\u001b[0m\n\u001b[0;32m    854\u001b[0m       \u001b[1;31m# defunned version which is guaranteed to never create variables.\u001b[0m\u001b[1;33m\u001b[0m\u001b[1;33m\u001b[0m\u001b[1;33m\u001b[0m\u001b[0m\n\u001b[1;32m--> 855\u001b[1;33m       \u001b[1;32mreturn\u001b[0m \u001b[0mself\u001b[0m\u001b[1;33m.\u001b[0m\u001b[0m_stateless_fn\u001b[0m\u001b[1;33m(\u001b[0m\u001b[1;33m*\u001b[0m\u001b[0margs\u001b[0m\u001b[1;33m,\u001b[0m \u001b[1;33m**\u001b[0m\u001b[0mkwds\u001b[0m\u001b[1;33m)\u001b[0m  \u001b[1;31m# pylint: disable=not-callable\u001b[0m\u001b[1;33m\u001b[0m\u001b[1;33m\u001b[0m\u001b[0m\n\u001b[0m\u001b[0;32m    856\u001b[0m     \u001b[1;32melif\u001b[0m \u001b[0mself\u001b[0m\u001b[1;33m.\u001b[0m\u001b[0m_stateful_fn\u001b[0m \u001b[1;32mis\u001b[0m \u001b[1;32mnot\u001b[0m \u001b[1;32mNone\u001b[0m\u001b[1;33m:\u001b[0m\u001b[1;33m\u001b[0m\u001b[1;33m\u001b[0m\u001b[0m\n\u001b[0;32m    857\u001b[0m       \u001b[1;31m# Release the lock early so that multiple threads can perform the call\u001b[0m\u001b[1;33m\u001b[0m\u001b[1;33m\u001b[0m\u001b[1;33m\u001b[0m\u001b[0m\n",
      "\u001b[1;32mD:\\anaconda\\lib\\site-packages\\tensorflow\\python\\eager\\function.py\u001b[0m in \u001b[0;36m__call__\u001b[1;34m(self, *args, **kwargs)\u001b[0m\n\u001b[0;32m   2940\u001b[0m       (graph_function,\n\u001b[0;32m   2941\u001b[0m        filtered_flat_args) = self._maybe_define_function(args, kwargs)\n\u001b[1;32m-> 2942\u001b[1;33m     return graph_function._call_flat(\n\u001b[0m\u001b[0;32m   2943\u001b[0m         filtered_flat_args, captured_inputs=graph_function.captured_inputs)  # pylint: disable=protected-access\n\u001b[0;32m   2944\u001b[0m \u001b[1;33m\u001b[0m\u001b[0m\n",
      "\u001b[1;32mD:\\anaconda\\lib\\site-packages\\tensorflow\\python\\eager\\function.py\u001b[0m in \u001b[0;36m_call_flat\u001b[1;34m(self, args, captured_inputs, cancellation_manager)\u001b[0m\n\u001b[0;32m   1916\u001b[0m         and executing_eagerly):\n\u001b[0;32m   1917\u001b[0m       \u001b[1;31m# No tape is watching; skip to running the function.\u001b[0m\u001b[1;33m\u001b[0m\u001b[1;33m\u001b[0m\u001b[1;33m\u001b[0m\u001b[0m\n\u001b[1;32m-> 1918\u001b[1;33m       return self._build_call_outputs(self._inference_function.call(\n\u001b[0m\u001b[0;32m   1919\u001b[0m           ctx, args, cancellation_manager=cancellation_manager))\n\u001b[0;32m   1920\u001b[0m     forward_backward = self._select_forward_and_backward_functions(\n",
      "\u001b[1;32mD:\\anaconda\\lib\\site-packages\\tensorflow\\python\\eager\\function.py\u001b[0m in \u001b[0;36mcall\u001b[1;34m(self, ctx, args, cancellation_manager)\u001b[0m\n\u001b[0;32m    553\u001b[0m       \u001b[1;32mwith\u001b[0m \u001b[0m_InterpolateFunctionError\u001b[0m\u001b[1;33m(\u001b[0m\u001b[0mself\u001b[0m\u001b[1;33m)\u001b[0m\u001b[1;33m:\u001b[0m\u001b[1;33m\u001b[0m\u001b[1;33m\u001b[0m\u001b[0m\n\u001b[0;32m    554\u001b[0m         \u001b[1;32mif\u001b[0m \u001b[0mcancellation_manager\u001b[0m \u001b[1;32mis\u001b[0m \u001b[1;32mNone\u001b[0m\u001b[1;33m:\u001b[0m\u001b[1;33m\u001b[0m\u001b[1;33m\u001b[0m\u001b[0m\n\u001b[1;32m--> 555\u001b[1;33m           outputs = execute.execute(\n\u001b[0m\u001b[0;32m    556\u001b[0m               \u001b[0mstr\u001b[0m\u001b[1;33m(\u001b[0m\u001b[0mself\u001b[0m\u001b[1;33m.\u001b[0m\u001b[0msignature\u001b[0m\u001b[1;33m.\u001b[0m\u001b[0mname\u001b[0m\u001b[1;33m)\u001b[0m\u001b[1;33m,\u001b[0m\u001b[1;33m\u001b[0m\u001b[1;33m\u001b[0m\u001b[0m\n\u001b[0;32m    557\u001b[0m               \u001b[0mnum_outputs\u001b[0m\u001b[1;33m=\u001b[0m\u001b[0mself\u001b[0m\u001b[1;33m.\u001b[0m\u001b[0m_num_outputs\u001b[0m\u001b[1;33m,\u001b[0m\u001b[1;33m\u001b[0m\u001b[1;33m\u001b[0m\u001b[0m\n",
      "\u001b[1;32mD:\\anaconda\\lib\\site-packages\\tensorflow\\python\\eager\\execute.py\u001b[0m in \u001b[0;36mquick_execute\u001b[1;34m(op_name, num_outputs, inputs, attrs, ctx, name)\u001b[0m\n\u001b[0;32m     57\u001b[0m   \u001b[1;32mtry\u001b[0m\u001b[1;33m:\u001b[0m\u001b[1;33m\u001b[0m\u001b[1;33m\u001b[0m\u001b[0m\n\u001b[0;32m     58\u001b[0m     \u001b[0mctx\u001b[0m\u001b[1;33m.\u001b[0m\u001b[0mensure_initialized\u001b[0m\u001b[1;33m(\u001b[0m\u001b[1;33m)\u001b[0m\u001b[1;33m\u001b[0m\u001b[1;33m\u001b[0m\u001b[0m\n\u001b[1;32m---> 59\u001b[1;33m     tensors = pywrap_tfe.TFE_Py_Execute(ctx._handle, device_name, op_name,\n\u001b[0m\u001b[0;32m     60\u001b[0m                                         inputs, attrs, num_outputs)\n\u001b[0;32m     61\u001b[0m   \u001b[1;32mexcept\u001b[0m \u001b[0mcore\u001b[0m\u001b[1;33m.\u001b[0m\u001b[0m_NotOkStatusException\u001b[0m \u001b[1;32mas\u001b[0m \u001b[0me\u001b[0m\u001b[1;33m:\u001b[0m\u001b[1;33m\u001b[0m\u001b[1;33m\u001b[0m\u001b[0m\n",
      "\u001b[1;31mKeyboardInterrupt\u001b[0m: "
     ]
    }
   ],
   "source": [
    "history1 = model1.fit(train_list1,y_train,batch_size=32,epochs=50,\n",
    "                      validation_split=0.2,callbacks=[early_stopping])"
   ]
  },
  {
   "cell_type": "code",
   "execution_count": 156,
   "metadata": {},
   "outputs": [],
   "source": [
    "defaultConv1D = partial(tf.keras.layers.Conv1D,kernel_size=3,\n",
    "                                               kernel_initializer=tf.keras.initializers.lecun_normal)\n",
    "scaler = 9\n",
    "momentum = 0.9\n",
    "learning_rate = 0.01\n",
    "\n",
    "model2 = tf.keras.Sequential()\n",
    "model2.add(defaultConv1D(filters=2*scaler))\n",
    "model2.add(tf.keras.layers.BatchNormalization(momentum=momentum))\n",
    "model2.add(tf.keras.layers.Activation('selu'))\n",
    "model2.add(tf.keras.layers.MaxPooling1D(pool_size=2))\n",
    "model2.add(defaultConv1D(filters=3*scaler))\n",
    "model2.add(tf.keras.layers.BatchNormalization(momentum=momentum))\n",
    "model2.add(tf.keras.layers.Activation('selu'))\n",
    "model2.add(tf.keras.layers.MaxPooling1D(pool_size=2))\n",
    "model2.add(defaultConv1D(filters=4*scaler))\n",
    "model2.add(tf.keras.layers.BatchNormalization(momentum=momentum))\n",
    "model2.add(tf.keras.layers.Activation('selu'))\n",
    "model2.add(tf.keras.layers.MaxPooling1D(pool_size=2))\n",
    "model2.add(defaultConv1D(filters=5*scaler))\n",
    "model2.add(tf.keras.layers.BatchNormalization(momentum=momentum))\n",
    "model2.add(tf.keras.layers.Activation('selu'))\n",
    "model2.add(tf.keras.layers.MaxPooling1D(pool_size=2))\n",
    "model2.add(tf.keras.layers.Flatten())\n",
    "model2.add(tf.keras.layers.Dense(units=50,kernel_initializer=tf.keras.initializers.lecun_normal))\n",
    "model2.add(tf.keras.layers.BatchNormalization(momentum=momentum))\n",
    "model2.add(tf.keras.layers.Activation('selu'))\n",
    "model2.add(tf.keras.layers.Dropout(0.5))\n",
    "model2.add(tf.keras.layers.Dense(units=1))\n",
    "\n",
    "model2.compile(optimizer=tf.keras.optimizers.Adam(learning_rate=learning_rate),\n",
    "              loss='mean_absolute_error',\n",
    "              metrics=['mean_absolute_error'])"
   ]
  },
  {
   "cell_type": "code",
   "execution_count": 157,
   "metadata": {
    "scrolled": true
   },
   "outputs": [
    {
     "name": "stdout",
     "output_type": "stream",
     "text": [
      "Epoch 1/25\n",
      "126/126 [==============================] - 3s 13ms/step - loss: 88.7198 - mean_absolute_error: 88.7198 - val_loss: 36.8943 - val_mean_absolute_error: 36.8943\n",
      "Epoch 2/25\n",
      "126/126 [==============================] - 1s 10ms/step - loss: 29.7043 - mean_absolute_error: 29.7043 - val_loss: 25.4490 - val_mean_absolute_error: 25.4490\n",
      "Epoch 3/25\n",
      "126/126 [==============================] - 1s 11ms/step - loss: 28.7718 - mean_absolute_error: 28.7718 - val_loss: 23.7550 - val_mean_absolute_error: 23.7550\n",
      "Epoch 4/25\n",
      "126/126 [==============================] - 1s 10ms/step - loss: 26.3577 - mean_absolute_error: 26.3577 - val_loss: 24.4399 - val_mean_absolute_error: 24.4399\n",
      "Epoch 5/25\n",
      "126/126 [==============================] - 1s 10ms/step - loss: 27.8535 - mean_absolute_error: 27.8535 - val_loss: 22.1548 - val_mean_absolute_error: 22.1548\n",
      "Epoch 6/25\n",
      "126/126 [==============================] - 1s 11ms/step - loss: 27.1093 - mean_absolute_error: 27.1093 - val_loss: 22.3651 - val_mean_absolute_error: 22.3651\n",
      "Epoch 7/25\n",
      "126/126 [==============================] - 1s 10ms/step - loss: 26.9320 - mean_absolute_error: 26.9320 - val_loss: 23.1338 - val_mean_absolute_error: 23.1338\n",
      "Epoch 8/25\n",
      "126/126 [==============================] - 1s 11ms/step - loss: 25.4100 - mean_absolute_error: 25.4100 - val_loss: 22.0505 - val_mean_absolute_error: 22.0505\n",
      "Epoch 9/25\n",
      "126/126 [==============================] - 1s 11ms/step - loss: 26.3060 - mean_absolute_error: 26.3060 - val_loss: 22.2760 - val_mean_absolute_error: 22.2760\n",
      "Epoch 10/25\n",
      "126/126 [==============================] - 1s 11ms/step - loss: 26.3527 - mean_absolute_error: 26.3527 - val_loss: 21.5871 - val_mean_absolute_error: 21.5871\n",
      "Epoch 11/25\n",
      "126/126 [==============================] - 1s 11ms/step - loss: 27.0267 - mean_absolute_error: 27.0267 - val_loss: 23.1671 - val_mean_absolute_error: 23.1671\n",
      "Epoch 12/25\n",
      "126/126 [==============================] - 1s 11ms/step - loss: 27.8731 - mean_absolute_error: 27.8731 - val_loss: 21.8713 - val_mean_absolute_error: 21.8713\n",
      "Epoch 13/25\n",
      "126/126 [==============================] - 1s 11ms/step - loss: 25.9211 - mean_absolute_error: 25.9211 - val_loss: 21.9042 - val_mean_absolute_error: 21.9042\n",
      "Epoch 14/25\n",
      "126/126 [==============================] - 1s 10ms/step - loss: 25.2968 - mean_absolute_error: 25.2968 - val_loss: 21.2871 - val_mean_absolute_error: 21.2871\n",
      "Epoch 15/25\n",
      "126/126 [==============================] - 1s 11ms/step - loss: 25.8884 - mean_absolute_error: 25.8884 - val_loss: 21.9813 - val_mean_absolute_error: 21.9813\n",
      "Epoch 16/25\n",
      "126/126 [==============================] - 1s 11ms/step - loss: 25.6290 - mean_absolute_error: 25.6290 - val_loss: 21.8074 - val_mean_absolute_error: 21.8074\n",
      "Epoch 17/25\n",
      "126/126 [==============================] - 1s 11ms/step - loss: 25.7824 - mean_absolute_error: 25.7824 - val_loss: 21.6664 - val_mean_absolute_error: 21.6664\n",
      "Epoch 18/25\n",
      "126/126 [==============================] - 1s 11ms/step - loss: 26.0186 - mean_absolute_error: 26.0186 - val_loss: 21.4989 - val_mean_absolute_error: 21.4989\n",
      "Epoch 19/25\n",
      "126/126 [==============================] - 1s 12ms/step - loss: 25.4457 - mean_absolute_error: 25.4457 - val_loss: 22.9026 - val_mean_absolute_error: 22.9026\n"
     ]
    }
   ],
   "source": [
    "history2 = model2.fit(train_list2,y_train,batch_size=16,epochs=25,\n",
    "                      validation_split=0.2,callbacks=[early_stopping])"
   ]
  },
  {
   "cell_type": "code",
   "execution_count": 158,
   "metadata": {},
   "outputs": [],
   "source": [
    "defaultConv1D = partial(tf.keras.layers.Conv1D,kernel_size=3,\n",
    "                                               kernel_initializer=tf.keras.initializers.lecun_normal)\n",
    "scaler = 9\n",
    "momentum = 0.9\n",
    "learning_rate = 0.01\n",
    "\n",
    "model3 = tf.keras.Sequential()\n",
    "model3.add(defaultConv1D(filters=2*scaler))\n",
    "model3.add(tf.keras.layers.BatchNormalization(momentum=momentum))\n",
    "model3.add(tf.keras.layers.Activation('selu'))\n",
    "model3.add(tf.keras.layers.MaxPooling1D(pool_size=2))\n",
    "model3.add(defaultConv1D(filters=3*scaler))\n",
    "model3.add(tf.keras.layers.BatchNormalization(momentum=momentum))\n",
    "model3.add(tf.keras.layers.Activation('selu'))\n",
    "model3.add(tf.keras.layers.MaxPooling1D(pool_size=2))\n",
    "model3.add(defaultConv1D(filters=4*scaler))\n",
    "model3.add(tf.keras.layers.BatchNormalization(momentum=momentum))\n",
    "model3.add(tf.keras.layers.Activation('selu'))\n",
    "model3.add(tf.keras.layers.MaxPooling1D(pool_size=2))\n",
    "model3.add(defaultConv1D(filters=5*scaler))\n",
    "model3.add(tf.keras.layers.BatchNormalization(momentum=momentum))\n",
    "model3.add(tf.keras.layers.Activation('selu'))\n",
    "model3.add(tf.keras.layers.MaxPooling1D(pool_size=2))\n",
    "model3.add(tf.keras.layers.Flatten())\n",
    "model3.add(tf.keras.layers.Dense(units=50,kernel_initializer=tf.keras.initializers.lecun_normal))\n",
    "model3.add(tf.keras.layers.BatchNormalization(momentum=momentum))\n",
    "model3.add(tf.keras.layers.Activation('selu'))\n",
    "model3.add(tf.keras.layers.Dropout(0.5))\n",
    "model3.add(tf.keras.layers.Dense(units=1))\n",
    "\n",
    "model3.compile(optimizer=tf.keras.optimizers.Adam(learning_rate=learning_rate),\n",
    "              loss='mean_absolute_error',\n",
    "              metrics=['mean_absolute_error'])"
   ]
  },
  {
   "cell_type": "code",
   "execution_count": 159,
   "metadata": {},
   "outputs": [
    {
     "name": "stdout",
     "output_type": "stream",
     "text": [
      "Epoch 1/25\n",
      "126/126 [==============================] - 3s 13ms/step - loss: 91.8601 - mean_absolute_error: 91.8601 - val_loss: 47.7556 - val_mean_absolute_error: 47.7556\n",
      "Epoch 2/25\n",
      "126/126 [==============================] - 1s 10ms/step - loss: 29.4986 - mean_absolute_error: 29.4986 - val_loss: 22.8689 - val_mean_absolute_error: 22.8689\n",
      "Epoch 3/25\n",
      "126/126 [==============================] - 1s 10ms/step - loss: 27.6327 - mean_absolute_error: 27.6327 - val_loss: 21.6030 - val_mean_absolute_error: 21.6030\n",
      "Epoch 4/25\n",
      "126/126 [==============================] - 1s 10ms/step - loss: 26.2064 - mean_absolute_error: 26.2064 - val_loss: 26.1632 - val_mean_absolute_error: 26.1632\n",
      "Epoch 5/25\n",
      "126/126 [==============================] - 1s 10ms/step - loss: 27.2683 - mean_absolute_error: 27.2683 - val_loss: 21.9742 - val_mean_absolute_error: 21.9742\n",
      "Epoch 6/25\n",
      "126/126 [==============================] - 1s 11ms/step - loss: 25.3669 - mean_absolute_error: 25.3669 - val_loss: 22.2452 - val_mean_absolute_error: 22.2452\n",
      "Epoch 7/25\n",
      "126/126 [==============================] - 1s 10ms/step - loss: 27.2743 - mean_absolute_error: 27.2743 - val_loss: 21.8815 - val_mean_absolute_error: 21.8815\n",
      "Epoch 8/25\n",
      "126/126 [==============================] - 1s 11ms/step - loss: 25.2616 - mean_absolute_error: 25.2616 - val_loss: 20.5722 - val_mean_absolute_error: 20.5722\n",
      "Epoch 9/25\n",
      "126/126 [==============================] - 1s 11ms/step - loss: 25.8769 - mean_absolute_error: 25.8769 - val_loss: 22.6721 - val_mean_absolute_error: 22.6721\n",
      "Epoch 10/25\n",
      "126/126 [==============================] - 1s 11ms/step - loss: 26.7875 - mean_absolute_error: 26.7875 - val_loss: 20.8893 - val_mean_absolute_error: 20.8893\n",
      "Epoch 11/25\n",
      "126/126 [==============================] - 1s 10ms/step - loss: 26.3425 - mean_absolute_error: 26.3425 - val_loss: 21.0737 - val_mean_absolute_error: 21.0737\n",
      "Epoch 12/25\n",
      "126/126 [==============================] - 1s 10ms/step - loss: 27.0881 - mean_absolute_error: 27.0881 - val_loss: 20.7554 - val_mean_absolute_error: 20.7554\n",
      "Epoch 13/25\n",
      "126/126 [==============================] - 1s 12ms/step - loss: 25.1907 - mean_absolute_error: 25.1907 - val_loss: 20.6802 - val_mean_absolute_error: 20.6802\n"
     ]
    }
   ],
   "source": [
    "history3 = model3.fit(train_list3,y_train,batch_size=16,epochs=25,\n",
    "                      validation_split=0.2,callbacks=[early_stopping])"
   ]
  },
  {
   "cell_type": "code",
   "execution_count": 162,
   "metadata": {},
   "outputs": [],
   "source": [
    "defaultConv1D = partial(tf.keras.layers.Conv1D,kernel_size=3,\n",
    "                                               kernel_initializer=tf.keras.initializers.lecun_normal)\n",
    "scaler = 9\n",
    "momentum = 0.9\n",
    "learning_rate = 0.01\n",
    "\n",
    "model4 = tf.keras.Sequential()\n",
    "model4.add(defaultConv1D(filters=2*scaler))\n",
    "model4.add(tf.keras.layers.BatchNormalization(momentum=momentum))\n",
    "model4.add(tf.keras.layers.Activation('selu'))\n",
    "model4.add(tf.keras.layers.MaxPooling1D(pool_size=2))\n",
    "model4.add(defaultConv1D(filters=3*scaler))\n",
    "model4.add(tf.keras.layers.BatchNormalization(momentum=momentum))\n",
    "model4.add(tf.keras.layers.Activation('selu'))\n",
    "model4.add(tf.keras.layers.MaxPooling1D(pool_size=2))\n",
    "model4.add(defaultConv1D(filters=4*scaler))\n",
    "model4.add(tf.keras.layers.BatchNormalization(momentum=momentum))\n",
    "model4.add(tf.keras.layers.Activation('selu'))\n",
    "model4.add(tf.keras.layers.MaxPooling1D(pool_size=2))\n",
    "model4.add(defaultConv1D(filters=5*scaler))\n",
    "model4.add(tf.keras.layers.BatchNormalization(momentum=momentum))\n",
    "model4.add(tf.keras.layers.Activation('selu'))\n",
    "model4.add(tf.keras.layers.MaxPooling1D(pool_size=2))\n",
    "model4.add(tf.keras.layers.Flatten())\n",
    "model4.add(tf.keras.layers.Dense(units=50,kernel_initializer=tf.keras.initializers.lecun_normal))\n",
    "model4.add(tf.keras.layers.BatchNormalization(momentum=momentum))\n",
    "model4.add(tf.keras.layers.Activation('selu'))\n",
    "model4.add(tf.keras.layers.Dropout(0.5))\n",
    "model4.add(tf.keras.layers.Dense(units=1))\n",
    "\n",
    "model4.compile(optimizer=tf.keras.optimizers.Adam(learning_rate=learning_rate),\n",
    "              loss='mean_absolute_error',\n",
    "              metrics=['mean_absolute_error'])"
   ]
  },
  {
   "cell_type": "code",
   "execution_count": 163,
   "metadata": {},
   "outputs": [
    {
     "name": "stdout",
     "output_type": "stream",
     "text": [
      "Epoch 1/25\n",
      "126/126 [==============================] - 3s 13ms/step - loss: 89.4883 - mean_absolute_error: 89.4883 - val_loss: 31.8378 - val_mean_absolute_error: 31.8378\n",
      "Epoch 2/25\n",
      "126/126 [==============================] - 1s 11ms/step - loss: 28.6947 - mean_absolute_error: 28.6947 - val_loss: 22.9352 - val_mean_absolute_error: 22.9352\n",
      "Epoch 3/25\n",
      "126/126 [==============================] - 1s 11ms/step - loss: 27.2562 - mean_absolute_error: 27.2562 - val_loss: 26.0928 - val_mean_absolute_error: 26.0928\n",
      "Epoch 4/25\n",
      "126/126 [==============================] - 1s 11ms/step - loss: 27.9646 - mean_absolute_error: 27.9646 - val_loss: 22.4708 - val_mean_absolute_error: 22.4708\n",
      "Epoch 5/25\n",
      "126/126 [==============================] - 1s 11ms/step - loss: 27.0265 - mean_absolute_error: 27.0265 - val_loss: 20.9363 - val_mean_absolute_error: 20.9363\n",
      "Epoch 6/25\n",
      "126/126 [==============================] - 1s 11ms/step - loss: 25.7429 - mean_absolute_error: 25.7429 - val_loss: 22.4214 - val_mean_absolute_error: 22.4214\n",
      "Epoch 7/25\n",
      "126/126 [==============================] - 1s 11ms/step - loss: 25.8798 - mean_absolute_error: 25.8798 - val_loss: 22.6814 - val_mean_absolute_error: 22.6814\n",
      "Epoch 8/25\n",
      "126/126 [==============================] - 1s 11ms/step - loss: 25.7229 - mean_absolute_error: 25.7229 - val_loss: 20.9816 - val_mean_absolute_error: 20.9816\n",
      "Epoch 9/25\n",
      "126/126 [==============================] - 1s 11ms/step - loss: 26.5789 - mean_absolute_error: 26.5789 - val_loss: 21.9663 - val_mean_absolute_error: 21.9663\n",
      "Epoch 10/25\n",
      "126/126 [==============================] - 1s 11ms/step - loss: 25.6014 - mean_absolute_error: 25.6014 - val_loss: 22.4895 - val_mean_absolute_error: 22.4895\n"
     ]
    }
   ],
   "source": [
    "history4 = model4.fit(train_list4,y_train,batch_size=16,epochs=25,\n",
    "                      validation_split=0.2,callbacks=[early_stopping])"
   ]
  },
  {
   "cell_type": "code",
   "execution_count": 164,
   "metadata": {},
   "outputs": [],
   "source": [
    "momentum = 0.9\n",
    "learning_rate = 0.01\n",
    "conc_list = list()\n",
    "input_list = list()\n",
    "for i in range(4):\n",
    "    model = vars()[f'model{i+1}']\n",
    "    model = Model(inputs=model.input,outputs=model.layers[-6].output)\n",
    "    input_list.append(model.input)\n",
    "    conc_list.append(model.output)\n",
    "concatenate = Concatenate()(conc_list)\n",
    "dense = tf.keras.layers.Dense(units=200,kernel_initializer=tf.keras.initializers.lecun_normal)(concatenate)\n",
    "batchnorm = tf.keras.layers.BatchNormalization(momentum=momentum)(dense)\n",
    "activation = tf.keras.layers.Activation('selu')(batchnorm)\n",
    "dropout = tf.keras.layers.Dropout(0.5)(activation)\n",
    "output = tf.keras.layers.Dense(units=1)(dropout)\n",
    "\n",
    "final_model = Model(inputs=input_list,outputs=output)\n",
    "final_model.compile(optimizer=tf.keras.optimizers.Adam(learning_rate=learning_rate),\n",
    "                    loss='mean_absolute_error',\n",
    "                    metrics=['mean_absolute_error'])"
   ]
  },
  {
   "cell_type": "code",
   "execution_count": 165,
   "metadata": {},
   "outputs": [
    {
     "name": "stdout",
     "output_type": "stream",
     "text": [
      "Epoch 1/25\n",
      "126/126 [==============================] - 8s 28ms/step - loss: 78.0404 - mean_absolute_error: 78.0404 - val_loss: 22.3750 - val_mean_absolute_error: 22.3750\n",
      "Epoch 2/25\n",
      "126/126 [==============================] - 3s 24ms/step - loss: 24.9575 - mean_absolute_error: 24.9575 - val_loss: 21.0196 - val_mean_absolute_error: 21.0196\n",
      "Epoch 3/25\n",
      "126/126 [==============================] - 4s 30ms/step - loss: 23.6825 - mean_absolute_error: 23.6825 - val_loss: 20.4642 - val_mean_absolute_error: 20.4642\n",
      "Epoch 4/25\n",
      "126/126 [==============================] - 4s 29ms/step - loss: 23.6264 - mean_absolute_error: 23.6264 - val_loss: 21.0756 - val_mean_absolute_error: 21.0756\n",
      "Epoch 5/25\n",
      "126/126 [==============================] - 5s 36ms/step - loss: 24.2259 - mean_absolute_error: 24.2259 - val_loss: 20.5890 - val_mean_absolute_error: 20.5890\n",
      "Epoch 6/25\n",
      "126/126 [==============================] - 4s 33ms/step - loss: 23.6869 - mean_absolute_error: 23.6869 - val_loss: 21.1561 - val_mean_absolute_error: 21.1561\n",
      "Epoch 7/25\n",
      "126/126 [==============================] - 4s 30ms/step - loss: 22.3929 - mean_absolute_error: 22.3929 - val_loss: 23.6426 - val_mean_absolute_error: 23.6426\n",
      "Epoch 8/25\n",
      "126/126 [==============================] - 4s 31ms/step - loss: 23.9806 - mean_absolute_error: 23.9806 - val_loss: 21.3012 - val_mean_absolute_error: 21.3012\n"
     ]
    }
   ],
   "source": [
    "history_final = final_model.fit(train_fit,y_train,validation_split=0.2,batch_size=16,epochs=25,\n",
    "                callbacks=[early_stopping])"
   ]
  },
  {
   "cell_type": "code",
   "execution_count": 168,
   "metadata": {},
   "outputs": [
    {
     "name": "stdout",
     "output_type": "stream",
     "text": [
      "9/9 [==============================] - 0s 9ms/step - loss: 21.7835 - mean_absolute_error: 21.7835\n"
     ]
    },
    {
     "data": {
      "text/plain": [
       "[21.783485412597656, 21.783485412597656]"
      ]
     },
     "execution_count": 168,
     "metadata": {},
     "output_type": "execute_result"
    }
   ],
   "source": [
    "final_model.evaluate(test_fit,y_test)"
   ]
  },
  {
   "cell_type": "code",
   "execution_count": null,
   "metadata": {},
   "outputs": [],
   "source": [
    "# 1) standard scaler\n",
    "# 2) convergence\n",
    "# 3) 2D conv"
   ]
  }
 ],
 "metadata": {
  "kernelspec": {
   "display_name": "Python 3",
   "language": "python",
   "name": "python3"
  },
  "language_info": {
   "codemirror_mode": {
    "name": "ipython",
    "version": 3
   },
   "file_extension": ".py",
   "mimetype": "text/x-python",
   "name": "python",
   "nbconvert_exporter": "python",
   "pygments_lexer": "ipython3",
   "version": "3.8.5"
  }
 },
 "nbformat": 4,
 "nbformat_minor": 4
}
