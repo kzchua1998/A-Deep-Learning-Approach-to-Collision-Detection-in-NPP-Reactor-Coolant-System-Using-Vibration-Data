{
 "cells": [
  {
   "cell_type": "code",
   "execution_count": 15,
   "metadata": {},
   "outputs": [],
   "source": [
    "import pandas as pd\n",
    "import numpy as np\n",
    "import matplotlib.pyplot as plt\n",
    "from tqdm import tqdm\n",
    "import random"
   ]
  },
  {
   "cell_type": "code",
   "execution_count": 16,
   "metadata": {},
   "outputs": [],
   "source": [
    "from tensorflow.keras.layers import Dense, Activation, Conv2D,Conv1D, Flatten,MaxPooling2D,BatchNormalization,Lambda, AveragePooling2D, MaxPooling1D\n",
    "import tensorflow.keras.backend as K\n",
    "from tensorflow.keras.layers import LSTM,Input,Bidirectional,Dense, Conv1D,MaxPooling1D,Flatten,Dropout,Input\n",
    "from tensorflow.keras.models import Model,Sequential\n",
    "from tensorflow.keras.callbacks import ModelCheckpoint\n",
    "from tensorflow import keras"
   ]
  },
  {
   "cell_type": "code",
   "execution_count": 17,
   "metadata": {},
   "outputs": [],
   "source": [
    "df_X = pd.read_csv('dataset/train_features.csv')\n",
    "df_y = pd.read_csv('dataset/train_target.csv')"
   ]
  },
  {
   "cell_type": "code",
   "execution_count": 18,
   "metadata": {},
   "outputs": [],
   "source": [
    "def data_processing(data_frame,feature_list,conc_list=list()):\n",
    "    for feature in feature_list:\n",
    "        conc_list.append(np.asarray(data_frame[feature]).reshape(-1,375,1))\n",
    "    conc_array = np.concatenate(conc_list,axis=2)\n",
    "    array = conc_array.transpose(0,1,2)\n",
    "    return array"
   ]
  },
  {
   "cell_type": "code",
   "execution_count": 19,
   "metadata": {},
   "outputs": [],
   "source": [
    "data = data_processing(df_X,['S1','S2','S3','S4'])"
   ]
  },
  {
   "cell_type": "code",
   "execution_count": 20,
   "metadata": {},
   "outputs": [],
   "source": [
    "y = df_y.drop(['id','X','Y','V'],axis=1)\n",
    "y_numpy = y.to_numpy()\n",
    "y_list = y_numpy.tolist()"
   ]
  },
  {
   "cell_type": "code",
   "execution_count": 21,
   "metadata": {},
   "outputs": [],
   "source": [
    "x_array = data\n",
    "y_array = y_list\n",
    "train_test_index = int(len(x_array)*0.8)\n",
    "zip_list = list(zip(x_array,y_array))\n",
    "random.shuffle(zip_list)\n",
    "x_array,y_array = zip(*zip_list)\n",
    "x_train,y_train = np.array(x_array[0:train_test_index]),np.array(y_array[0:train_test_index])\n",
    "x_test,y_test = np.array(x_array[train_test_index:]),np.array(y_array[train_test_index:])"
   ]
  },
  {
   "cell_type": "code",
   "execution_count": 28,
   "metadata": {},
   "outputs": [
    {
     "data": {
      "text/plain": [
       "array([[125.],\n",
       "       [150.],\n",
       "       [125.],\n",
       "       ...,\n",
       "       [175.],\n",
       "       [ 75.],\n",
       "       [175.]])"
      ]
     },
     "execution_count": 28,
     "metadata": {},
     "output_type": "execute_result"
    }
   ],
   "source": [
    "y_train"
   ]
  },
  {
   "cell_type": "code",
   "execution_count": 22,
   "metadata": {},
   "outputs": [
    {
     "data": {
      "text/plain": [
       "array([[0.66666667],\n",
       "       [0.83333333],\n",
       "       [0.66666667],\n",
       "       ...,\n",
       "       [1.        ],\n",
       "       [0.33333333],\n",
       "       [1.        ]])"
      ]
     },
     "execution_count": 22,
     "metadata": {},
     "output_type": "execute_result"
    }
   ],
   "source": [
    "from sklearn.preprocessing import MinMaxScaler\n",
    "Scaler = MinMaxScaler(feature_range=(0, 1))\n",
    "y_train_scaled = Scaler.fit_transform(y_train)\n",
    "y_test_scaled = Scaler.fit_transform(y_test)\n",
    "y_train_scaled"
   ]
  },
  {
   "cell_type": "code",
   "execution_count": 29,
   "metadata": {},
   "outputs": [],
   "source": [
    "model= Sequential(\n",
    "    [\n",
    "        Input(shape=(x_train.shape[1],x_train.shape[2])),\n",
    "        Conv1D(32, 2, activation=\"relu\"),\n",
    "        BatchNormalization(),\n",
    "        MaxPooling1D(3),\n",
    "        Conv1D(32,2, activation=\"relu\"),\n",
    "        MaxPooling1D(2),\n",
    "        Conv1D(32,2, activation=\"relu\"),\n",
    "        Flatten(),\n",
    "        Dense(64, activation=\"relu\"),\n",
    "        Dense(16, activation=\"relu\"),\n",
    "        Dense(1)\n",
    "    ]\n",
    ")\n",
    "def my_loss(y_true, y_pred):\n",
    "    return K.mean(K.square(y_true-y_pred))/2e+04\n",
    "\n",
    "model.compile(loss=my_loss,optimizer='adam',metrics=['mean_absolute_error'])\n",
    "from keras import callbacks\n",
    "early_stopping = callbacks.EarlyStopping(monitor =\"val_mean_absolute_error\", \n",
    "                                        mode =\"min\", patience = 50, \n",
    "                                        restore_best_weights = True)\n",
    "history = model.fit(x_train,y_train,validation_split=0.2,epochs=500,callbacks=[early_stopping])"
   ]
  },
  {
   "cell_type": "code",
   "execution_count": 30,
   "metadata": {},
   "outputs": [],
   "source": [
    "def my_loss(y_true, y_pred):\n",
    "    return K.mean(K.square(y_true-y_pred))/2e+04"
   ]
  },
  {
   "cell_type": "code",
   "execution_count": 31,
   "metadata": {},
   "outputs": [],
   "source": [
    "model.compile(loss=my_loss,optimizer='adam',metrics=['mean_absolute_error'])"
   ]
  },
  {
   "cell_type": "code",
   "execution_count": 32,
   "metadata": {},
   "outputs": [],
   "source": [
    "from keras import callbacks\n",
    "early_stopping = callbacks.EarlyStopping(monitor =\"val_mean_absolute_error\", \n",
    "                                        mode =\"min\", patience = 50, \n",
    "                                        restore_best_weights = True)"
   ]
  },
  {
   "cell_type": "code",
   "execution_count": 33,
   "metadata": {
    "scrolled": true
   },
   "outputs": [
    {
     "name": "stdout",
     "output_type": "stream",
     "text": [
      "Epoch 1/500\n",
      "56/56 [==============================] - 2s 16ms/step - loss: 0.3330 - mean_absolute_error: 67.9850 - val_loss: 0.1548 - val_mean_absolute_error: 45.8913\n",
      "Epoch 2/500\n",
      "56/56 [==============================] - 1s 13ms/step - loss: 0.0987 - mean_absolute_error: 37.3226 - val_loss: 0.1004 - val_mean_absolute_error: 37.4109\n",
      "Epoch 3/500\n",
      "56/56 [==============================] - 1s 14ms/step - loss: 0.0781 - mean_absolute_error: 33.3042 - val_loss: 0.0767 - val_mean_absolute_error: 33.2402\n",
      "Epoch 4/500\n",
      "56/56 [==============================] - 1s 12ms/step - loss: 0.0551 - mean_absolute_error: 27.1663 - val_loss: 0.0468 - val_mean_absolute_error: 25.0113\n",
      "Epoch 5/500\n",
      "56/56 [==============================] - 1s 12ms/step - loss: 0.0319 - mean_absolute_error: 19.8922 - val_loss: 0.0305 - val_mean_absolute_error: 18.0260\n",
      "Epoch 6/500\n",
      "56/56 [==============================] - 1s 12ms/step - loss: 0.0225 - mean_absolute_error: 16.0310 - val_loss: 0.0241 - val_mean_absolute_error: 16.2015\n",
      "Epoch 7/500\n",
      "56/56 [==============================] - 1s 13ms/step - loss: 0.0159 - mean_absolute_error: 13.0509 - val_loss: 0.0175 - val_mean_absolute_error: 14.7774\n",
      "Epoch 8/500\n",
      "56/56 [==============================] - 1s 13ms/step - loss: 0.0132 - mean_absolute_error: 12.2542 - val_loss: 0.0151 - val_mean_absolute_error: 11.5062\n",
      "Epoch 9/500\n",
      "56/56 [==============================] - 1s 14ms/step - loss: 0.0099 - mean_absolute_error: 10.5192 - val_loss: 0.0101 - val_mean_absolute_error: 10.2393\n",
      "Epoch 10/500\n",
      "56/56 [==============================] - 1s 13ms/step - loss: 0.0110 - mean_absolute_error: 11.2386 - val_loss: 0.0079 - val_mean_absolute_error: 8.9028\n",
      "Epoch 11/500\n",
      "56/56 [==============================] - 1s 14ms/step - loss: 0.0091 - mean_absolute_error: 10.0909 - val_loss: 0.0068 - val_mean_absolute_error: 8.0560\n",
      "Epoch 12/500\n",
      "56/56 [==============================] - 1s 13ms/step - loss: 0.0058 - mean_absolute_error: 7.9478 - val_loss: 0.0219 - val_mean_absolute_error: 17.0366\n",
      "Epoch 13/500\n",
      "56/56 [==============================] - 1s 13ms/step - loss: 0.0101 - mean_absolute_error: 10.5993 - val_loss: 0.0068 - val_mean_absolute_error: 8.4435\n",
      "Epoch 14/500\n",
      "56/56 [==============================] - 1s 13ms/step - loss: 0.0060 - mean_absolute_error: 8.4125 - val_loss: 0.0051 - val_mean_absolute_error: 7.0284\n",
      "Epoch 15/500\n",
      "56/56 [==============================] - 1s 12ms/step - loss: 0.0059 - mean_absolute_error: 8.2312 - val_loss: 0.0052 - val_mean_absolute_error: 6.7649\n",
      "Epoch 16/500\n",
      "56/56 [==============================] - 1s 12ms/step - loss: 0.0055 - mean_absolute_error: 7.6589 - val_loss: 0.0044 - val_mean_absolute_error: 6.2138\n",
      "Epoch 17/500\n",
      "56/56 [==============================] - 1s 12ms/step - loss: 0.0072 - mean_absolute_error: 9.0463 - val_loss: 0.0043 - val_mean_absolute_error: 6.6113\n",
      "Epoch 18/500\n",
      "56/56 [==============================] - 1s 12ms/step - loss: 0.0070 - mean_absolute_error: 9.0796 - val_loss: 0.0053 - val_mean_absolute_error: 7.4103\n",
      "Epoch 19/500\n",
      "56/56 [==============================] - 1s 12ms/step - loss: 0.0093 - mean_absolute_error: 10.7132 - val_loss: 0.0040 - val_mean_absolute_error: 6.3287\n",
      "Epoch 20/500\n",
      "56/56 [==============================] - 1s 12ms/step - loss: 0.0048 - mean_absolute_error: 7.3529 - val_loss: 0.0038 - val_mean_absolute_error: 5.7329\n",
      "Epoch 21/500\n",
      "56/56 [==============================] - 1s 12ms/step - loss: 0.0053 - mean_absolute_error: 7.5312 - val_loss: 0.0048 - val_mean_absolute_error: 7.3440\n",
      "Epoch 22/500\n",
      "56/56 [==============================] - 1s 12ms/step - loss: 0.0058 - mean_absolute_error: 7.9680 - val_loss: 0.0035 - val_mean_absolute_error: 5.7218\n",
      "Epoch 23/500\n",
      "56/56 [==============================] - 1s 12ms/step - loss: 0.0052 - mean_absolute_error: 7.7781 - val_loss: 0.0048 - val_mean_absolute_error: 6.8756\n",
      "Epoch 24/500\n",
      "56/56 [==============================] - 1s 12ms/step - loss: 0.0053 - mean_absolute_error: 7.6965 - val_loss: 0.0055 - val_mean_absolute_error: 7.1028\n",
      "Epoch 25/500\n",
      "56/56 [==============================] - 1s 12ms/step - loss: 0.0039 - mean_absolute_error: 6.6686 - val_loss: 0.0035 - val_mean_absolute_error: 5.7441\n",
      "Epoch 26/500\n",
      "56/56 [==============================] - 1s 11ms/step - loss: 0.0046 - mean_absolute_error: 7.1856 - val_loss: 0.0102 - val_mean_absolute_error: 10.7273\n",
      "Epoch 27/500\n",
      "56/56 [==============================] - 1s 13ms/step - loss: 0.0056 - mean_absolute_error: 7.6108 - val_loss: 0.0038 - val_mean_absolute_error: 6.5466\n",
      "Epoch 28/500\n",
      "56/56 [==============================] - 1s 14ms/step - loss: 0.0055 - mean_absolute_error: 8.0038 - val_loss: 0.0035 - val_mean_absolute_error: 5.4810\n",
      "Epoch 29/500\n",
      "56/56 [==============================] - 1s 15ms/step - loss: 0.0052 - mean_absolute_error: 7.5587 - val_loss: 0.0031 - val_mean_absolute_error: 5.6012\n",
      "Epoch 30/500\n",
      "56/56 [==============================] - 1s 15ms/step - loss: 0.0036 - mean_absolute_error: 6.1934 - val_loss: 0.0038 - val_mean_absolute_error: 6.1679\n",
      "Epoch 31/500\n",
      "56/56 [==============================] - 1s 15ms/step - loss: 0.0044 - mean_absolute_error: 7.1683 - val_loss: 0.0059 - val_mean_absolute_error: 8.0957\n",
      "Epoch 32/500\n",
      "56/56 [==============================] - 1s 14ms/step - loss: 0.0047 - mean_absolute_error: 6.9751 - val_loss: 0.0035 - val_mean_absolute_error: 6.2322\n",
      "Epoch 33/500\n",
      "56/56 [==============================] - 1s 15ms/step - loss: 0.0027 - mean_absolute_error: 5.3382 - val_loss: 0.0039 - val_mean_absolute_error: 6.7743\n",
      "Epoch 34/500\n",
      "56/56 [==============================] - 1s 14ms/step - loss: 0.0043 - mean_absolute_error: 6.8672 - val_loss: 0.0177 - val_mean_absolute_error: 16.0148\n",
      "Epoch 35/500\n",
      "56/56 [==============================] - 1s 15ms/step - loss: 0.0082 - mean_absolute_error: 9.9598 - val_loss: 0.0030 - val_mean_absolute_error: 5.6505\n",
      "Epoch 36/500\n",
      "56/56 [==============================] - 1s 15ms/step - loss: 0.0029 - mean_absolute_error: 5.6802 - val_loss: 0.0032 - val_mean_absolute_error: 5.4059\n",
      "Epoch 37/500\n",
      "56/56 [==============================] - 1s 14ms/step - loss: 0.0052 - mean_absolute_error: 7.6343 - val_loss: 0.0040 - val_mean_absolute_error: 6.9102\n",
      "Epoch 38/500\n",
      "56/56 [==============================] - 1s 15ms/step - loss: 0.0046 - mean_absolute_error: 7.2466 - val_loss: 0.0026 - val_mean_absolute_error: 5.0759\n",
      "Epoch 39/500\n",
      "56/56 [==============================] - 1s 14ms/step - loss: 0.0046 - mean_absolute_error: 7.0959 - val_loss: 0.0076 - val_mean_absolute_error: 9.4755\n",
      "Epoch 40/500\n",
      "56/56 [==============================] - 1s 15ms/step - loss: 0.0039 - mean_absolute_error: 6.5350 - val_loss: 0.0046 - val_mean_absolute_error: 7.6863\n",
      "Epoch 41/500\n",
      "56/56 [==============================] - 1s 15ms/step - loss: 0.0032 - mean_absolute_error: 5.9200 - val_loss: 0.0030 - val_mean_absolute_error: 5.5541\n",
      "Epoch 42/500\n",
      "56/56 [==============================] - 1s 15ms/step - loss: 0.0071 - mean_absolute_error: 9.3537 - val_loss: 0.0023 - val_mean_absolute_error: 4.6178\n",
      "Epoch 43/500\n",
      "56/56 [==============================] - 1s 14ms/step - loss: 0.0036 - mean_absolute_error: 6.2970 - val_loss: 0.0036 - val_mean_absolute_error: 6.2853\n",
      "Epoch 44/500\n",
      "56/56 [==============================] - 1s 15ms/step - loss: 0.0034 - mean_absolute_error: 6.2262 - val_loss: 0.0030 - val_mean_absolute_error: 5.4376\n",
      "Epoch 45/500\n",
      "56/56 [==============================] - 1s 14ms/step - loss: 0.0033 - mean_absolute_error: 6.0911 - val_loss: 0.0024 - val_mean_absolute_error: 4.9488\n",
      "Epoch 46/500\n",
      "56/56 [==============================] - 1s 15ms/step - loss: 0.0039 - mean_absolute_error: 6.5974 - val_loss: 0.0023 - val_mean_absolute_error: 4.8256\n",
      "Epoch 47/500\n",
      "56/56 [==============================] - 1s 14ms/step - loss: 0.0031 - mean_absolute_error: 6.0416 - val_loss: 0.0023 - val_mean_absolute_error: 4.5910\n",
      "Epoch 48/500\n",
      "56/56 [==============================] - 1s 14ms/step - loss: 0.0027 - mean_absolute_error: 5.4980 - val_loss: 0.0057 - val_mean_absolute_error: 8.2800\n",
      "Epoch 49/500\n",
      "56/56 [==============================] - 1s 14ms/step - loss: 0.0035 - mean_absolute_error: 6.1101 - val_loss: 0.0030 - val_mean_absolute_error: 5.3012\n",
      "Epoch 50/500\n"
     ]
    },
    {
     "name": "stdout",
     "output_type": "stream",
     "text": [
      "56/56 [==============================] - 1s 13ms/step - loss: 0.0032 - mean_absolute_error: 5.9470 - val_loss: 0.0037 - val_mean_absolute_error: 6.2283\n",
      "Epoch 51/500\n",
      "56/56 [==============================] - 1s 14ms/step - loss: 0.0033 - mean_absolute_error: 5.9581 - val_loss: 0.0026 - val_mean_absolute_error: 4.6059\n",
      "Epoch 52/500\n",
      "56/56 [==============================] - 1s 14ms/step - loss: 0.0033 - mean_absolute_error: 6.1083 - val_loss: 0.0022 - val_mean_absolute_error: 4.5055\n",
      "Epoch 53/500\n",
      "56/56 [==============================] - 1s 14ms/step - loss: 0.0037 - mean_absolute_error: 6.4205 - val_loss: 0.0020 - val_mean_absolute_error: 4.2943\n",
      "Epoch 54/500\n",
      "56/56 [==============================] - 1s 14ms/step - loss: 0.0034 - mean_absolute_error: 6.2222 - val_loss: 0.0055 - val_mean_absolute_error: 7.8978\n",
      "Epoch 55/500\n",
      "56/56 [==============================] - 1s 15ms/step - loss: 0.0055 - mean_absolute_error: 7.6358 - val_loss: 0.0041 - val_mean_absolute_error: 6.5440\n",
      "Epoch 56/500\n",
      "56/56 [==============================] - 1s 15ms/step - loss: 0.0029 - mean_absolute_error: 5.7033 - val_loss: 0.0022 - val_mean_absolute_error: 4.4397\n",
      "Epoch 57/500\n",
      "56/56 [==============================] - 1s 15ms/step - loss: 0.0025 - mean_absolute_error: 5.2995 - val_loss: 0.0024 - val_mean_absolute_error: 4.5311\n",
      "Epoch 58/500\n",
      "56/56 [==============================] - 1s 17ms/step - loss: 0.0021 - mean_absolute_error: 4.8391 - val_loss: 0.0017 - val_mean_absolute_error: 3.9837\n",
      "Epoch 59/500\n",
      "56/56 [==============================] - 1s 16ms/step - loss: 0.0019 - mean_absolute_error: 4.5550 - val_loss: 0.0035 - val_mean_absolute_error: 6.5219\n",
      "Epoch 60/500\n",
      "56/56 [==============================] - 1s 15ms/step - loss: 0.0045 - mean_absolute_error: 7.1141 - val_loss: 0.0049 - val_mean_absolute_error: 7.6271\n",
      "Epoch 61/500\n",
      "56/56 [==============================] - 1s 15ms/step - loss: 0.0042 - mean_absolute_error: 6.8280 - val_loss: 0.0031 - val_mean_absolute_error: 5.3826\n",
      "Epoch 62/500\n",
      "56/56 [==============================] - 1s 15ms/step - loss: 0.0027 - mean_absolute_error: 5.4857 - val_loss: 0.0068 - val_mean_absolute_error: 9.2274\n",
      "Epoch 63/500\n",
      "56/56 [==============================] - 1s 14ms/step - loss: 0.0045 - mean_absolute_error: 7.2103 - val_loss: 0.0022 - val_mean_absolute_error: 4.5388\n",
      "Epoch 64/500\n",
      "56/56 [==============================] - 1s 14ms/step - loss: 0.0024 - mean_absolute_error: 5.2625 - val_loss: 0.0019 - val_mean_absolute_error: 4.2615\n",
      "Epoch 65/500\n",
      "56/56 [==============================] - 1s 14ms/step - loss: 0.0019 - mean_absolute_error: 4.5564 - val_loss: 0.0024 - val_mean_absolute_error: 4.5749\n",
      "Epoch 66/500\n",
      "56/56 [==============================] - 1s 14ms/step - loss: 0.0023 - mean_absolute_error: 5.1839 - val_loss: 0.0029 - val_mean_absolute_error: 5.4679\n",
      "Epoch 67/500\n",
      "56/56 [==============================] - 1s 17ms/step - loss: 0.0027 - mean_absolute_error: 5.2725 - val_loss: 0.0048 - val_mean_absolute_error: 7.3239\n",
      "Epoch 68/500\n",
      "56/56 [==============================] - 1s 15ms/step - loss: 0.0040 - mean_absolute_error: 6.9360 - val_loss: 0.0029 - val_mean_absolute_error: 5.9545\n",
      "Epoch 69/500\n",
      "56/56 [==============================] - 1s 14ms/step - loss: 0.0033 - mean_absolute_error: 6.0427 - val_loss: 0.0018 - val_mean_absolute_error: 4.0708\n",
      "Epoch 70/500\n",
      "56/56 [==============================] - 1s 14ms/step - loss: 0.0028 - mean_absolute_error: 5.6412 - val_loss: 0.0025 - val_mean_absolute_error: 5.4008\n",
      "Epoch 71/500\n",
      "56/56 [==============================] - 1s 14ms/step - loss: 0.0040 - mean_absolute_error: 6.8439 - val_loss: 0.0026 - val_mean_absolute_error: 5.0942\n",
      "Epoch 72/500\n",
      "56/56 [==============================] - 1s 14ms/step - loss: 0.0027 - mean_absolute_error: 5.4627 - val_loss: 0.0043 - val_mean_absolute_error: 7.2020\n",
      "Epoch 73/500\n",
      "56/56 [==============================] - 1s 14ms/step - loss: 0.0029 - mean_absolute_error: 5.6138 - val_loss: 0.0025 - val_mean_absolute_error: 5.1215\n",
      "Epoch 74/500\n",
      "56/56 [==============================] - 1s 14ms/step - loss: 0.0035 - mean_absolute_error: 6.1880 - val_loss: 0.0053 - val_mean_absolute_error: 7.9023\n",
      "Epoch 75/500\n",
      "56/56 [==============================] - 1s 13ms/step - loss: 0.0049 - mean_absolute_error: 7.7256 - val_loss: 0.0036 - val_mean_absolute_error: 6.9595\n",
      "Epoch 76/500\n",
      "56/56 [==============================] - 1s 16ms/step - loss: 0.0038 - mean_absolute_error: 6.8279 - val_loss: 0.0019 - val_mean_absolute_error: 4.1179\n",
      "Epoch 77/500\n",
      "56/56 [==============================] - 1s 17ms/step - loss: 0.0032 - mean_absolute_error: 5.8821 - val_loss: 0.0020 - val_mean_absolute_error: 4.3748\n",
      "Epoch 78/500\n",
      "56/56 [==============================] - 1s 15ms/step - loss: 0.0027 - mean_absolute_error: 5.5169 - val_loss: 0.0031 - val_mean_absolute_error: 5.5752\n",
      "Epoch 79/500\n",
      "56/56 [==============================] - 1s 16ms/step - loss: 0.0029 - mean_absolute_error: 5.7018 - val_loss: 0.0059 - val_mean_absolute_error: 9.2146\n",
      "Epoch 80/500\n",
      "56/56 [==============================] - 1s 16ms/step - loss: 0.0062 - mean_absolute_error: 8.6437 - val_loss: 0.0020 - val_mean_absolute_error: 4.3503\n",
      "Epoch 81/500\n",
      "56/56 [==============================] - 1s 16ms/step - loss: 0.0027 - mean_absolute_error: 5.3091 - val_loss: 0.0020 - val_mean_absolute_error: 4.4929\n",
      "Epoch 82/500\n",
      "56/56 [==============================] - 1s 14ms/step - loss: 0.0038 - mean_absolute_error: 6.5682 - val_loss: 0.0067 - val_mean_absolute_error: 9.2040\n",
      "Epoch 83/500\n",
      "56/56 [==============================] - 1s 16ms/step - loss: 0.0029 - mean_absolute_error: 5.7901 - val_loss: 0.0021 - val_mean_absolute_error: 4.4655\n",
      "Epoch 84/500\n",
      "56/56 [==============================] - 1s 15ms/step - loss: 0.0034 - mean_absolute_error: 6.2840 - val_loss: 0.0032 - val_mean_absolute_error: 5.6868\n",
      "Epoch 85/500\n",
      "56/56 [==============================] - 1s 14ms/step - loss: 0.0032 - mean_absolute_error: 5.9047 - val_loss: 0.0028 - val_mean_absolute_error: 5.5899\n",
      "Epoch 86/500\n",
      "56/56 [==============================] - 1s 15ms/step - loss: 0.0046 - mean_absolute_error: 7.0246 - val_loss: 0.0023 - val_mean_absolute_error: 4.9765\n",
      "Epoch 87/500\n",
      "56/56 [==============================] - 1s 14ms/step - loss: 0.0031 - mean_absolute_error: 5.5717 - val_loss: 0.0026 - val_mean_absolute_error: 4.7694\n",
      "Epoch 88/500\n",
      "56/56 [==============================] - 1s 15ms/step - loss: 0.0037 - mean_absolute_error: 6.3132 - val_loss: 0.0020 - val_mean_absolute_error: 4.2328\n",
      "Epoch 89/500\n",
      "56/56 [==============================] - 1s 14ms/step - loss: 0.0027 - mean_absolute_error: 5.5034 - val_loss: 0.0036 - val_mean_absolute_error: 5.9228\n",
      "Epoch 90/500\n",
      "56/56 [==============================] - 1s 14ms/step - loss: 0.0024 - mean_absolute_error: 5.0053 - val_loss: 0.0027 - val_mean_absolute_error: 4.7972\n",
      "Epoch 91/500\n",
      "56/56 [==============================] - 1s 15ms/step - loss: 0.0023 - mean_absolute_error: 5.0718 - val_loss: 0.0027 - val_mean_absolute_error: 5.1055\n",
      "Epoch 92/500\n",
      "56/56 [==============================] - 1s 14ms/step - loss: 0.0016 - mean_absolute_error: 4.2632 - val_loss: 0.0017 - val_mean_absolute_error: 4.1415\n",
      "Epoch 93/500\n",
      "56/56 [==============================] - 1s 15ms/step - loss: 0.0028 - mean_absolute_error: 5.3979 - val_loss: 0.0032 - val_mean_absolute_error: 5.9293\n",
      "Epoch 94/500\n",
      "56/56 [==============================] - 1s 14ms/step - loss: 0.0030 - mean_absolute_error: 5.9139 - val_loss: 0.0022 - val_mean_absolute_error: 4.8502\n",
      "Epoch 95/500\n",
      "56/56 [==============================] - 1s 15ms/step - loss: 0.0021 - mean_absolute_error: 4.8378 - val_loss: 0.0015 - val_mean_absolute_error: 3.5296\n",
      "Epoch 96/500\n",
      "56/56 [==============================] - 1s 14ms/step - loss: 0.0018 - mean_absolute_error: 4.5027 - val_loss: 0.0030 - val_mean_absolute_error: 5.4315\n",
      "Epoch 97/500\n",
      "56/56 [==============================] - 1s 14ms/step - loss: 0.0028 - mean_absolute_error: 5.6474 - val_loss: 0.0017 - val_mean_absolute_error: 3.7411\n",
      "Epoch 98/500\n",
      "56/56 [==============================] - 1s 14ms/step - loss: 0.0032 - mean_absolute_error: 5.9728 - val_loss: 0.0018 - val_mean_absolute_error: 3.8525\n",
      "Epoch 99/500\n",
      "56/56 [==============================] - 1s 14ms/step - loss: 0.0021 - mean_absolute_error: 4.5690 - val_loss: 0.0014 - val_mean_absolute_error: 3.6064\n"
     ]
    },
    {
     "name": "stdout",
     "output_type": "stream",
     "text": [
      "Epoch 100/500\n",
      "56/56 [==============================] - 1s 14ms/step - loss: 0.0023 - mean_absolute_error: 5.0174 - val_loss: 0.0018 - val_mean_absolute_error: 4.0316\n",
      "Epoch 101/500\n",
      "56/56 [==============================] - 1s 14ms/step - loss: 0.0025 - mean_absolute_error: 5.1384 - val_loss: 0.0017 - val_mean_absolute_error: 4.1401\n",
      "Epoch 102/500\n",
      "56/56 [==============================] - 1s 14ms/step - loss: 0.0025 - mean_absolute_error: 5.1474 - val_loss: 0.0034 - val_mean_absolute_error: 5.9395\n",
      "Epoch 103/500\n",
      "56/56 [==============================] - 1s 14ms/step - loss: 0.0043 - mean_absolute_error: 7.0984 - val_loss: 0.0022 - val_mean_absolute_error: 4.5850\n",
      "Epoch 104/500\n",
      "56/56 [==============================] - 1s 14ms/step - loss: 0.0027 - mean_absolute_error: 5.4946 - val_loss: 0.0025 - val_mean_absolute_error: 5.1175\n",
      "Epoch 105/500\n",
      "56/56 [==============================] - 1s 14ms/step - loss: 0.0028 - mean_absolute_error: 5.6641 - val_loss: 0.0033 - val_mean_absolute_error: 5.9517\n",
      "Epoch 106/500\n",
      "56/56 [==============================] - 1s 14ms/step - loss: 0.0035 - mean_absolute_error: 6.0729 - val_loss: 0.0067 - val_mean_absolute_error: 9.2167\n",
      "Epoch 107/500\n",
      "56/56 [==============================] - 1s 14ms/step - loss: 0.0038 - mean_absolute_error: 6.5738 - val_loss: 0.0021 - val_mean_absolute_error: 5.0704\n",
      "Epoch 108/500\n",
      "56/56 [==============================] - 1s 14ms/step - loss: 0.0024 - mean_absolute_error: 5.0796 - val_loss: 0.0020 - val_mean_absolute_error: 4.2098\n",
      "Epoch 109/500\n",
      "56/56 [==============================] - 1s 14ms/step - loss: 0.0032 - mean_absolute_error: 5.8287 - val_loss: 0.0017 - val_mean_absolute_error: 4.0725\n",
      "Epoch 110/500\n",
      "56/56 [==============================] - 1s 14ms/step - loss: 0.0022 - mean_absolute_error: 4.9736 - val_loss: 0.0019 - val_mean_absolute_error: 4.4424\n",
      "Epoch 111/500\n",
      "56/56 [==============================] - 1s 14ms/step - loss: 0.0029 - mean_absolute_error: 5.6826 - val_loss: 0.0021 - val_mean_absolute_error: 4.6313\n",
      "Epoch 112/500\n",
      "56/56 [==============================] - 1s 14ms/step - loss: 0.0021 - mean_absolute_error: 4.6759 - val_loss: 0.0028 - val_mean_absolute_error: 5.4651\n",
      "Epoch 113/500\n",
      "56/56 [==============================] - 1s 14ms/step - loss: 0.0023 - mean_absolute_error: 4.9144 - val_loss: 0.0016 - val_mean_absolute_error: 4.0431\n",
      "Epoch 114/500\n",
      "56/56 [==============================] - 1s 14ms/step - loss: 0.0020 - mean_absolute_error: 4.7182 - val_loss: 0.0016 - val_mean_absolute_error: 4.0821\n",
      "Epoch 115/500\n",
      "56/56 [==============================] - 1s 14ms/step - loss: 0.0019 - mean_absolute_error: 4.5405 - val_loss: 0.0030 - val_mean_absolute_error: 5.5520\n",
      "Epoch 116/500\n",
      "56/56 [==============================] - 1s 14ms/step - loss: 0.0018 - mean_absolute_error: 4.4862 - val_loss: 0.0020 - val_mean_absolute_error: 4.0344\n",
      "Epoch 117/500\n",
      "56/56 [==============================] - 1s 14ms/step - loss: 0.0031 - mean_absolute_error: 5.8872 - val_loss: 0.0024 - val_mean_absolute_error: 4.5457\n",
      "Epoch 118/500\n",
      "56/56 [==============================] - 1s 14ms/step - loss: 0.0026 - mean_absolute_error: 5.3723 - val_loss: 0.0023 - val_mean_absolute_error: 4.2811\n",
      "Epoch 119/500\n",
      "56/56 [==============================] - 1s 14ms/step - loss: 0.0033 - mean_absolute_error: 5.9938 - val_loss: 0.0021 - val_mean_absolute_error: 4.5305\n",
      "Epoch 120/500\n",
      "56/56 [==============================] - 1s 14ms/step - loss: 0.0028 - mean_absolute_error: 5.5514 - val_loss: 0.0020 - val_mean_absolute_error: 4.1794\n",
      "Epoch 121/500\n",
      "56/56 [==============================] - 1s 14ms/step - loss: 0.0023 - mean_absolute_error: 5.0969 - val_loss: 0.0025 - val_mean_absolute_error: 5.1119\n",
      "Epoch 122/500\n",
      "56/56 [==============================] - 1s 14ms/step - loss: 0.0037 - mean_absolute_error: 6.6993 - val_loss: 0.0025 - val_mean_absolute_error: 5.0393\n",
      "Epoch 123/500\n",
      "56/56 [==============================] - 1s 14ms/step - loss: 0.0022 - mean_absolute_error: 4.8861 - val_loss: 0.0029 - val_mean_absolute_error: 5.9445\n",
      "Epoch 124/500\n",
      "56/56 [==============================] - 1s 14ms/step - loss: 0.0025 - mean_absolute_error: 5.3370 - val_loss: 0.0019 - val_mean_absolute_error: 4.3206\n",
      "Epoch 125/500\n",
      "56/56 [==============================] - 1s 14ms/step - loss: 0.0027 - mean_absolute_error: 5.5122 - val_loss: 0.0014 - val_mean_absolute_error: 3.5850\n",
      "Epoch 126/500\n",
      "56/56 [==============================] - 1s 14ms/step - loss: 0.0026 - mean_absolute_error: 5.2608 - val_loss: 0.0028 - val_mean_absolute_error: 5.1870\n",
      "Epoch 127/500\n",
      "56/56 [==============================] - 1s 14ms/step - loss: 0.0034 - mean_absolute_error: 6.0464 - val_loss: 0.0052 - val_mean_absolute_error: 7.9576\n",
      "Epoch 128/500\n",
      "56/56 [==============================] - 1s 15ms/step - loss: 0.0027 - mean_absolute_error: 5.7532 - val_loss: 0.0031 - val_mean_absolute_error: 6.2498\n",
      "Epoch 129/500\n",
      "56/56 [==============================] - 1s 14ms/step - loss: 0.0016 - mean_absolute_error: 4.2859 - val_loss: 0.0014 - val_mean_absolute_error: 3.6318\n",
      "Epoch 130/500\n",
      "56/56 [==============================] - 1s 14ms/step - loss: 0.0027 - mean_absolute_error: 5.6799 - val_loss: 0.0014 - val_mean_absolute_error: 3.5638\n",
      "Epoch 131/500\n",
      "56/56 [==============================] - 1s 14ms/step - loss: 0.0022 - mean_absolute_error: 4.9418 - val_loss: 0.0018 - val_mean_absolute_error: 4.0456\n",
      "Epoch 132/500\n",
      "56/56 [==============================] - 1s 14ms/step - loss: 0.0019 - mean_absolute_error: 4.5341 - val_loss: 0.0016 - val_mean_absolute_error: 3.6500\n",
      "Epoch 133/500\n",
      "56/56 [==============================] - 1s 14ms/step - loss: 0.0019 - mean_absolute_error: 4.6802 - val_loss: 0.0018 - val_mean_absolute_error: 3.8646\n",
      "Epoch 134/500\n",
      "56/56 [==============================] - 1s 14ms/step - loss: 0.0022 - mean_absolute_error: 4.7988 - val_loss: 0.0018 - val_mean_absolute_error: 3.9069\n",
      "Epoch 135/500\n",
      "56/56 [==============================] - 1s 14ms/step - loss: 0.0016 - mean_absolute_error: 4.1947 - val_loss: 0.0032 - val_mean_absolute_error: 5.7453\n",
      "Epoch 136/500\n",
      "56/56 [==============================] - 1s 13ms/step - loss: 0.0015 - mean_absolute_error: 4.0945 - val_loss: 0.0019 - val_mean_absolute_error: 4.2500\n",
      "Epoch 137/500\n",
      "56/56 [==============================] - 1s 14ms/step - loss: 0.0019 - mean_absolute_error: 4.5877 - val_loss: 0.0023 - val_mean_absolute_error: 4.7185\n",
      "Epoch 138/500\n",
      "56/56 [==============================] - 1s 14ms/step - loss: 0.0024 - mean_absolute_error: 5.1419 - val_loss: 0.0015 - val_mean_absolute_error: 3.8398\n",
      "Epoch 139/500\n",
      "56/56 [==============================] - 1s 13ms/step - loss: 0.0019 - mean_absolute_error: 4.3923 - val_loss: 0.0027 - val_mean_absolute_error: 5.7790\n",
      "Epoch 140/500\n",
      "56/56 [==============================] - 1s 14ms/step - loss: 0.0035 - mean_absolute_error: 6.2653 - val_loss: 0.0019 - val_mean_absolute_error: 4.1132\n",
      "Epoch 141/500\n",
      "56/56 [==============================] - 1s 13ms/step - loss: 0.0020 - mean_absolute_error: 4.6218 - val_loss: 0.0027 - val_mean_absolute_error: 5.4632\n",
      "Epoch 142/500\n",
      "56/56 [==============================] - 1s 14ms/step - loss: 0.0022 - mean_absolute_error: 4.7562 - val_loss: 0.0058 - val_mean_absolute_error: 8.6302\n",
      "Epoch 143/500\n",
      "56/56 [==============================] - 1s 14ms/step - loss: 0.0021 - mean_absolute_error: 4.8511 - val_loss: 0.0018 - val_mean_absolute_error: 4.3389\n",
      "Epoch 144/500\n",
      "56/56 [==============================] - 1s 14ms/step - loss: 0.0027 - mean_absolute_error: 5.5718 - val_loss: 0.0044 - val_mean_absolute_error: 7.3742\n",
      "Epoch 145/500\n",
      "56/56 [==============================] - 1s 14ms/step - loss: 0.0031 - mean_absolute_error: 5.9924 - val_loss: 0.0024 - val_mean_absolute_error: 4.5512\n"
     ]
    }
   ],
   "source": [
    "history = model.fit(x_train,y_train,validation_split=0.2,epochs=500,callbacks=[early_stopping])"
   ]
  },
  {
   "cell_type": "code",
   "execution_count": 35,
   "metadata": {},
   "outputs": [
    {
     "data": {
      "text/plain": [
       "<function matplotlib.pyplot.show(close=None, block=None)>"
      ]
     },
     "execution_count": 35,
     "metadata": {},
     "output_type": "execute_result"
    },
    {
     "data": {
      "image/png": "[encoded data removed]",
      "text/plain": [
       "<Figure size 576x360 with 1 Axes>"
      ]
     },
     "metadata": {
      "needs_background": "light"
     },
     "output_type": "display_data"
    }
   ],
   "source": [
    "#del history.history[\"loss\"]\n",
    "#del history.history[\"val_loss\"]\n",
    "pd.DataFrame(history.history).plot(figsize=(8,5))\n",
    "plt.xlabel(\"epoch\")\n",
    "plt.ylabel('error')\n",
    "plt.title(\"Model (M) Training History\")\n",
    "plt.grid(True)\n",
    "plt.show"
   ]
  },
  {
   "cell_type": "code",
   "execution_count": 64,
   "metadata": {},
   "outputs": [
    {
     "name": "stdout",
     "output_type": "stream",
     "text": [
      "18/18 [==============================] - 0s 4ms/step - loss: 1.9235e-08 - mean_absolute_error: 0.0120\n"
     ]
    },
    {
     "data": {
      "text/plain": [
       "[1.9235152137753175e-08, 0.011954731307923794]"
      ]
     },
     "execution_count": 64,
     "metadata": {},
     "output_type": "execute_result"
    }
   ],
   "source": [
    "model.evaluate(x_test,y_test)"
   ]
  },
  {
   "cell_type": "code",
   "execution_count": 65,
   "metadata": {},
   "outputs": [],
   "source": [
    "ans = model.predict(np.expand_dims(x_test[0],axis=0))"
   ]
  },
  {
   "cell_type": "code",
   "execution_count": 68,
   "metadata": {},
   "outputs": [],
   "source": [
    "model.save('model/model_v.h5')"
   ]
  },
  {
   "cell_type": "code",
   "execution_count": null,
   "metadata": {},
   "outputs": [],
   "source": []
  }
 ],
 "metadata": {
  "kernelspec": {
   "display_name": "Python 3",
   "language": "python",
   "name": "python3"
  },
  "language_info": {
   "codemirror_mode": {
    "name": "ipython",
    "version": 3
   },
   "file_extension": ".py",
   "mimetype": "text/x-python",
   "name": "python",
   "nbconvert_exporter": "python",
   "pygments_lexer": "ipython3",
   "version": "3.8.5"
  }
 },
 "nbformat": 4,
 "nbformat_minor": 4
}
